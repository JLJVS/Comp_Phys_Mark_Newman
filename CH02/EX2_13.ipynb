{
 "cells": [
  {
   "cell_type": "markdown",
   "id": "294be7d8",
   "metadata": {},
   "source": [
    "# Exercise 2.13: Recursion\n",
    "\n",
    "A useful feature of user-defined functions is _recursion_, the ability of a function to call itself. For example, consider the following definition of the factorial $n!$ of a positive integer $n$:\n",
    "\n",
    "\n",
    "\n",
    "This constitues a complete definition of the factorial which allows us to calculate the factorial of $n-1$. This is recursion. If we now say \"print(factorial(5))\" the computer will correctly print the answer 120.\n"
   ]
  },
  {
   "cell_type": "markdown",
   "id": "61f33e11",
   "metadata": {},
   "source": [
    "a)\n",
    "We encountered the Catalan numbers $C_n$ previously in Exercise 2.7 on page 46. With just a little rearrangement, the definition given there can be rewritten in the form:\n",
    "$C_n = 1 \\text{  if  } n=0$,\n",
    "$C_n = \\frac{4n-2}{n+1}c_{n-1} \\text{  if  } n>0$.\n",
    "\n",
    "Write a Python function, using recursion, that calculates $C_n$. Use your function to calculate and print $C_{100}$."
   ]
  },
  {
   "cell_type": "code",
   "execution_count": 4,
   "id": "4ecfd916",
   "metadata": {},
   "outputs": [],
   "source": [
    "def catalan_recursive(n):\n",
    "    '''\n",
    "    Calculates the nth catalan number recursively \n",
    "    '''\n",
    "    \n",
    "    if n==0:\n",
    "        return 1\n",
    "    else:\n",
    "        return int((4*n-2)/(n+1)*catalan_recursive(n-1))"
   ]
  },
  {
   "cell_type": "code",
   "execution_count": 12,
   "id": "d3937994",
   "metadata": {},
   "outputs": [
    {
     "data": {
      "text/plain": [
       "896519947090131678185430741499021921911623568450622849024"
      ]
     },
     "execution_count": 12,
     "metadata": {},
     "output_type": "execute_result"
    }
   ],
   "source": [
    "catalan_recursive(100)"
   ]
  },
  {
   "cell_type": "markdown",
   "id": "db27c579",
   "metadata": {},
   "source": [
    "b)\n",
    "Euclid shows that the greatest common divisor $g(m,n)$ of two nonegative integers $m$ and $n$ satisfies:\n",
    "$g(m,n)=m \\text{   if   } n=0$, $g(m,n)=g(n,m \\text{mod} n) \\text{   if   } n>0$.\n",
    "\n",
    "Write a Python function g(m,n) that employs recursion to calculate the greates common divisor of $m$ and $n$ using this formula. Use your function to alculate and print the greatest common divisor of 108 and 192."
   ]
  },
  {
   "cell_type": "code",
   "execution_count": 15,
   "id": "16128570",
   "metadata": {},
   "outputs": [],
   "source": [
    "def gcd(m,n):\n",
    "    '''\n",
    "    Calculates the greatest common divisor of m and n recursively\n",
    "    '''\n",
    "    \n",
    "    if n==0:\n",
    "        return m\n",
    "    else:\n",
    "        return gcd(n, m%n)"
   ]
  },
  {
   "cell_type": "code",
   "execution_count": 14,
   "id": "1cb6246a",
   "metadata": {},
   "outputs": [
    {
     "data": {
      "text/plain": [
       "12"
      ]
     },
     "execution_count": 14,
     "metadata": {},
     "output_type": "execute_result"
    }
   ],
   "source": [
    "gcd(108, 192)"
   ]
  },
  {
   "cell_type": "code",
   "execution_count": null,
   "id": "14e790f7",
   "metadata": {},
   "outputs": [],
   "source": []
  }
 ],
 "metadata": {
  "kernelspec": {
   "display_name": "Python 3 (ipykernel)",
   "language": "python",
   "name": "python3"
  },
  "language_info": {
   "codemirror_mode": {
    "name": "ipython",
    "version": 3
   },
   "file_extension": ".py",
   "mimetype": "text/x-python",
   "name": "python",
   "nbconvert_exporter": "python",
   "pygments_lexer": "ipython3",
   "version": "3.10.9"
  }
 },
 "nbformat": 4,
 "nbformat_minor": 5
}
