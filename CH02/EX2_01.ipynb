{
 "cells": [
  {
   "cell_type": "markdown",
   "id": "df8cdc50",
   "metadata": {},
   "source": [
    "# Exercise 2.1: Another ball dropped from a tower\n",
    "\n",
    "A ball is again dropped from atower of height `h` with inital velocity zero. Write a program that asks the user to enter the height in meters of the tower and then calculates and prints the time the ball takes until it hits the ground, ignoring air resistance. Use your program to calculate the time time for a ball dropped from a 100 m high tower."
   ]
  },
  {
   "cell_type": "markdown",
   "id": "71730762",
   "metadata": {},
   "source": [
    "Use the formula for distance travelled with constant acceleration:\n",
    "\n",
    "$s = \\frac{1}{2}at^{2}$\n",
    "\n",
    "where `s` is the distance travelled, `a` is the acceleration and `t` is the time.\n",
    "\n",
    "in this case substitue $g=9.81$ for `a` and `h`for `s`:\n",
    "\n",
    "$h = \\frac{1}{2}gt^{2}$\n",
    "\n",
    "Rewriting yields:\n",
    "$ t = \\sqrt{\\frac{2h}{g}}$"
   ]
  },
  {
   "cell_type": "code",
   "execution_count": 1,
   "id": "a7a441e6",
   "metadata": {},
   "outputs": [],
   "source": [
    "def ex2_1(h=100):\n",
    "    '''\n",
    "    Calculates the time a ball will fall from a tower of height h (default value is 100 m.) with no air resistance.\n",
    "    \n",
    "    parameters:\n",
    "    h: height of the tower in question in m\n",
    "    '''\n",
    "    \n",
    "    g = 9.81\n",
    "    \n",
    "    t = (2*h/g)**0.5\n",
    "    print(f\"The ball takes {round(t,2)} seconds for the ball to hit the ground when dropped from a {h} meter tall tower.\")"
   ]
  },
  {
   "cell_type": "code",
   "execution_count": 3,
   "id": "0eb4646c",
   "metadata": {},
   "outputs": [
    {
     "name": "stdout",
     "output_type": "stream",
     "text": [
      "The ball takes 4.52 seconds for the ball to hit the ground when dropped from a 100 meter tall tower.\n"
     ]
    }
   ],
   "source": [
    "ex2_1()"
   ]
  },
  {
   "cell_type": "code",
   "execution_count": 4,
   "id": "856e5972",
   "metadata": {},
   "outputs": [
    {
     "name": "stdout",
     "output_type": "stream",
     "text": [
      "The ball takes 14.28 seconds for the ball to hit the ground when dropped from a 1000 meter tall tower.\n"
     ]
    }
   ],
   "source": [
    "ex2_1(1000)"
   ]
  },
  {
   "cell_type": "code",
   "execution_count": 5,
   "id": "f4ccc589",
   "metadata": {},
   "outputs": [
    {
     "name": "stdout",
     "output_type": "stream",
     "text": [
      "The ball takes 3.19 seconds for the ball to hit the ground when dropped from a 50 meter tall tower.\n"
     ]
    }
   ],
   "source": [
    "ex2_1(50)"
   ]
  },
  {
   "cell_type": "code",
   "execution_count": null,
   "id": "9807a83d",
   "metadata": {},
   "outputs": [],
   "source": []
  }
 ],
 "metadata": {
  "kernelspec": {
   "display_name": "Python 3 (ipykernel)",
   "language": "python",
   "name": "python3"
  },
  "language_info": {
   "codemirror_mode": {
    "name": "ipython",
    "version": 3
   },
   "file_extension": ".py",
   "mimetype": "text/x-python",
   "name": "python",
   "nbconvert_exporter": "python",
   "pygments_lexer": "ipython3",
   "version": "3.10.9"
  }
 },
 "nbformat": 4,
 "nbformat_minor": 5
}
