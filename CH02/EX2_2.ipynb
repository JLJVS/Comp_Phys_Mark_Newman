{
 "cells": [
  {
   "cell_type": "markdown",
   "id": "e4972fcf",
   "metadata": {},
   "source": [
    "# Exercise 2.2: Altitude of a satellite\n",
    "\n",
    "A satellite is to be launched into a circular orbit around the Earth so that it orbits the planet once every `T` seconds. "
   ]
  },
  {
   "cell_type": "markdown",
   "id": "e37c71a2",
   "metadata": {},
   "source": [
    "a) Show that the altitude `h` above the Earth's surface that the satellite must have is\n",
    "$h = \\bigg(\\frac{GMT^{2}}{4\\pi^{2}}\\bigg)^{\\frac{1}{3}} -R $\n",
    "\n",
    "where $G=6.67 \\times 10^{-11} \\text{m}^{3}\\text{kg}^{-1}\\text{s}^{-2}$ is Newton's graviational constant, $M = 5.97 \\times 10^{24} \\text{kg}$ is hte mass of the Earth, and $R = 6371 \\text{km}$ is its radius."
   ]
  },
  {
   "cell_type": "markdown",
   "id": "890f6956",
   "metadata": {},
   "source": [
    "the equation can be rewritten to Kepler's third Law.\n",
    "\n",
    "$T = 2\\pi\\sqrt{\\frac{a^3}{GM}}$\n",
    "\n",
    "where $a=h+R$"
   ]
  },
  {
   "cell_type": "code",
   "execution_count": 31,
   "id": "f32601b1",
   "metadata": {},
   "outputs": [],
   "source": [
    "from math import pi\n",
    "\n",
    "def altitude_calculator(T=24*60*60):\n",
    "    '''\n",
    "    Calculates the altitude for a satellite for a given orbital period T (defaults to a day i.e. geostationary).\n",
    "    parameters:\n",
    "    T - the orbital period in seconds\n",
    "    '''\n",
    "    \n",
    "    \n",
    "    G = 6.67e-11  # The gravitational constant\n",
    "    M = 5.97e24   # Earth's mass\n",
    "    R = 6371e3      # radius of earth\n",
    "    \n",
    "    height = ((G*M*T**2) /(4*pi**2))**(1/3) - R\n",
    "    \n",
    "    print(f\"A satellite with an orbital period of {T} s has an altitude of {round(height*10**(-3))} km.\")"
   ]
  },
  {
   "cell_type": "code",
   "execution_count": 32,
   "id": "694c5d65",
   "metadata": {},
   "outputs": [
    {
     "name": "stdout",
     "output_type": "stream",
     "text": [
      "A satellite with an orbital period of 86400 s has an altitude of 35856 km.\n"
     ]
    }
   ],
   "source": [
    "altitude_calculator()"
   ]
  },
  {
   "cell_type": "code",
   "execution_count": 33,
   "id": "28d3d071",
   "metadata": {},
   "outputs": [
    {
     "name": "stdout",
     "output_type": "stream",
     "text": [
      "A satellite with an orbital period of 2700 s has an altitude of -2182 km.\n",
      "A satellite with an orbital period of 5400 s has an altitude of 279 km.\n",
      "A satellite with an orbital period of 86400 s has an altitude of 35856 km.\n"
     ]
    }
   ],
   "source": [
    "ninety_minutes = 90*60\n",
    "fourty_five_min = 45*60\n",
    "day = 24*60*60\n",
    "\n",
    "times = [fourty_five_min, ninety_minutes, day]\n",
    "for period in times:\n",
    "    altitude_calculator(period)"
   ]
  },
  {
   "cell_type": "markdown",
   "id": "d1284935",
   "metadata": {},
   "source": [
    "We get a radius smaller than the radius of the earth for a period of 45 minutes. So it's not possible to create a satellite with a period of 45 minutes."
   ]
  },
  {
   "cell_type": "code",
   "execution_count": 36,
   "id": "70767bf4",
   "metadata": {},
   "outputs": [
    {
     "data": {
      "text/plain": [
       "23.983572895277206"
      ]
     },
     "execution_count": 36,
     "metadata": {},
     "output_type": "execute_result"
    }
   ],
   "source": [
    "# d technically it's 23.93 hours for a geosynchronous orbit why?\n",
    "\n",
    "# first instinct is that it's related to leap years\n",
    "\n",
    "4*365/(4*365+1)*24 \n",
    "\n",
    "# apparently not, it's related to the earth's rotation relative to the stars"
   ]
  },
  {
   "cell_type": "code",
   "execution_count": 37,
   "id": "dafe4ac1",
   "metadata": {},
   "outputs": [
    {
     "name": "stdout",
     "output_type": "stream",
     "text": [
      "A satellite with an orbital period of 86148.0 s has an altitude of 35774 km.\n",
      "A satellite with an orbital period of 86400 s has an altitude of 35856 km.\n"
     ]
    }
   ],
   "source": [
    "day = 24*60*60\n",
    "sid_day = 23.93/24*day\n",
    "\n",
    "for period in [sid_day, day]:\n",
    "    altitude_calculator(period)"
   ]
  },
  {
   "cell_type": "code",
   "execution_count": null,
   "id": "7abd4037",
   "metadata": {},
   "outputs": [],
   "source": []
  }
 ],
 "metadata": {
  "kernelspec": {
   "display_name": "Python 3 (ipykernel)",
   "language": "python",
   "name": "python3"
  },
  "language_info": {
   "codemirror_mode": {
    "name": "ipython",
    "version": 3
   },
   "file_extension": ".py",
   "mimetype": "text/x-python",
   "name": "python",
   "nbconvert_exporter": "python",
   "pygments_lexer": "ipython3",
   "version": "3.10.9"
  }
 },
 "nbformat": 4,
 "nbformat_minor": 5
}
