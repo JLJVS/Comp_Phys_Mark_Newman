{
 "cells": [
  {
   "cell_type": "markdown",
   "id": "00aa4b74",
   "metadata": {},
   "source": [
    "# Exercise 2.7: Catalan numbers\n",
    "\n",
    "The Catalan numbers $C_n$ are a sequence of integers 1, 1, 2, 5, 14, 42, 132.... that play an important role in quantum mechanics and the theory of disordered systems. (They were central to Eugene Wigner's proof of the so-called semicircle law.) They are given by\n",
    "\n",
    "$C_0 = 1$, $c_{n+1} = \\frac{4n+2}{n+2}C_n$.\n",
    "\n",
    "Write a program that prints in increasing order all Catalan numbers less than or equal to one billion.\n"
   ]
  },
  {
   "cell_type": "code",
   "execution_count": 12,
   "id": "18c5e655",
   "metadata": {},
   "outputs": [],
   "source": [
    "def catalan_generator(n = 1e9):\n",
    "    '''\n",
    "    Calculates all catalan numbers up to n and prints them\n",
    "    '''\n",
    "    \n",
    "    index = 0\n",
    "    c = 1\n",
    "    to_print = [f\"c_{index}\\t=\\t{c}\"]\n",
    "    #print(f\"c_{index} = {c}\")\n",
    "    \n",
    "    while c < n:\n",
    "        \n",
    "        c *= (4*index+2)/(index+2)\n",
    "        index += 1\n",
    "        to_print.append(f\"c_{index}\\t=\\t{int(c)}\")\n",
    "        #print(f\"c_{index} = {int(c)}\")\n",
    "    for line in to_print[:-1]:\n",
    "        print(line)"
   ]
  },
  {
   "cell_type": "code",
   "execution_count": 13,
   "id": "cc6dfa04",
   "metadata": {},
   "outputs": [
    {
     "name": "stdout",
     "output_type": "stream",
     "text": [
      "c_0\t=\t1\n",
      "c_1\t=\t1\n",
      "c_2\t=\t2\n",
      "c_3\t=\t5\n",
      "c_4\t=\t14\n",
      "c_5\t=\t42\n",
      "c_6\t=\t132\n",
      "c_7\t=\t429\n",
      "c_8\t=\t1430\n",
      "c_9\t=\t4862\n",
      "c_10\t=\t16796\n",
      "c_11\t=\t58786\n",
      "c_12\t=\t208012\n",
      "c_13\t=\t742900\n",
      "c_14\t=\t2674440\n",
      "c_15\t=\t9694845\n",
      "c_16\t=\t35357670\n",
      "c_17\t=\t129644790\n",
      "c_18\t=\t477638700\n"
     ]
    }
   ],
   "source": [
    "catalan_generator()"
   ]
  },
  {
   "cell_type": "code",
   "execution_count": null,
   "id": "761b2054",
   "metadata": {},
   "outputs": [],
   "source": []
  }
 ],
 "metadata": {
  "kernelspec": {
   "display_name": "Python 3 (ipykernel)",
   "language": "python",
   "name": "python3"
  },
  "language_info": {
   "codemirror_mode": {
    "name": "ipython",
    "version": 3
   },
   "file_extension": ".py",
   "mimetype": "text/x-python",
   "name": "python",
   "nbconvert_exporter": "python",
   "pygments_lexer": "ipython3",
   "version": "3.10.9"
  }
 },
 "nbformat": 4,
 "nbformat_minor": 5
}
