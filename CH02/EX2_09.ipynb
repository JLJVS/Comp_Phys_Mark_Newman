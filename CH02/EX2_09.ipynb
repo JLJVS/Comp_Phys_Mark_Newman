{
 "cells": [
  {
   "cell_type": "markdown",
   "id": "94d8c1d3",
   "metadata": {},
   "source": [
    "# Exercise 2.9: The Madelung constant\n",
    "\n",
    "In condensed matter physics the Madelung constant gives the total electric potential felt by an atom in a solid. It depends on the charges on the other atoms nearby and their locations. consider for instance solid sodium chloride-table salt. The sodium chloride crystal has atoms arranged on a cubic lattice, but with alternating sodium and chlorine atoms, the sodium ones having a single positive charge $+e$ and the clorine ones a single negative charge $-e$, where $e$ is the charge on the electron. If we label each position on the lattice by three integer coordinates $(i,j,k)$, then the sodium atoms fall at positions where $i + j + k$ is even, and the chlorine atoms at positions where $i+j+k$ is odd. \n",
    "\n",
    "Consider a sodium atom at the origin, $i = j = k = 0$, and let us calculate the Madelung constant. If the spacing of atoms on the lattice is $a$, then the distance from the origin to the atom at position $(i,j,k)$ is\n",
    "\n",
    "$ \\sqrt{(ia)^2 + (ja)^2 + (ka)^2} = a\\sqrt{i^2 + j^2 + k^2}$\n",
    "\n",
    "and the potential at the origin created by such an atom is\n",
    "\n",
    "$V(i,j,k) = \\pm\\frac{e}{4\\pi\\epsilon_0a\\sqrt{i^2 + j^2 + k^2}}$,\n",
    "\n",
    "with $\\epsilon_0$ being the permittivity of the vacuum and the sign of hte expression depending on whether $i + j + k$ is even or odd. The total potential felt by the sodium atom is the nthe sum of this quantity over all other atoms. Let us assume a cubic box around the sodium at the origin, with $L$ atoms in all directions. Then\n",
    "\n",
    "$V_{total} = \\sum^L_{i,j,k=-L} V(i,j,k) = \\frac{e}{4\\pi\\epsilon_0a}M$,\n",
    "\n",
    "where $M$ is the madelung constant, at least approximately - technically the Madelung constant is the value of $M$ when $L \\rightarrow \\infty$, but one can get a good approximation just by using a large value of $L$.\n",
    "\n",
    "Write a program to calculate and print the Madelung constant for sodium chloride. Use as large a value of $L$ as you can, while still having your program run in reasonable time -- say in a minute or less."
   ]
  },
  {
   "cell_type": "code",
   "execution_count": 1,
   "id": "96e1d1d3",
   "metadata": {},
   "outputs": [],
   "source": [
    "from math import pi, sqrt\n",
    "\n",
    "def Madelung_calculator(L=100):\n",
    "    '''\n",
    "    Calculates the madelung constant for solid sodium chloride for a volume L\n",
    "    '''\n",
    "    e = 1.602e-19 # coulombs\n",
    "    epsilon0 = 8.854e-12 \n",
    "    a = 1\n",
    "    denom = 4*pi*epsilon0\n",
    "    #print(denom)\n",
    "    \n",
    "    total_potential = 0\n",
    "    for i in range(-L, L+1):\n",
    "        for j in range(-L, L+1):\n",
    "            for k in range(-L, L+1):\n",
    "                if i==j and i==k and i==0:\n",
    "                    continue\n",
    "                if (i+j+k)%2 == 0:\n",
    "                    total_potential += e/denom/sqrt(i**2+j**2+k**2)\n",
    "                else:\n",
    "                    total_potential -= e/denom/sqrt(i**2+j**2+k**2)\n",
    "    M = total_potential*denom/e\n",
    "    print(f\"For a volume {L} of Sodium Chloride we found a Madelung constant of {round(M,3)}.\")"
   ]
  },
  {
   "cell_type": "code",
   "execution_count": 2,
   "id": "b234b770",
   "metadata": {},
   "outputs": [
    {
     "name": "stdout",
     "output_type": "stream",
     "text": [
      "For a volume 200 of Sodium Chloride we found a Madelung constant of -1.745.\n",
      "40.6 s ± 0 ns per loop (mean ± std. dev. of 1 run, 1 loop each)\n"
     ]
    }
   ],
   "source": [
    "%timeit -r 1 -n 1 Madelung_calculator(200)"
   ]
  },
  {
   "cell_type": "markdown",
   "id": "c5f64f86",
   "metadata": {},
   "source": [
    "A quick check of literature finds that $M = \\pm1.747$\n",
    "\n",
    "https://en.wikipedia.org/wiki/Madelung_constant"
   ]
  },
  {
   "cell_type": "code",
   "execution_count": 3,
   "id": "ca88b58f",
   "metadata": {},
   "outputs": [
    {
     "name": "stdout",
     "output_type": "stream",
     "text": [
      "For a volume 500 of Sodium Chloride we found a Madelung constant of -1.746.\n",
      "10min 24s ± 0 ns per loop (mean ± std. dev. of 1 run, 1 loop each)\n"
     ]
    }
   ],
   "source": [
    "%timeit -r 1 -n 1 Madelung_calculator(500)"
   ]
  },
  {
   "cell_type": "markdown",
   "id": "c478310f",
   "metadata": {},
   "source": [
    "Note we increased `L` by a factor of 2.5 so we increase the number of iterations by 2.5 * 2.5 * 2.5 = 15.625 . $L=200$ took 40 sec so we expected $L=500$ to take 40 * 15.6 = 600 + 24 = 10 min 24s. So the function does scale as expected. "
   ]
  },
  {
   "cell_type": "code",
   "execution_count": null,
   "id": "e0da3d3c",
   "metadata": {},
   "outputs": [],
   "source": []
  }
 ],
 "metadata": {
  "kernelspec": {
   "display_name": "Python 3 (ipykernel)",
   "language": "python",
   "name": "python3"
  },
  "language_info": {
   "codemirror_mode": {
    "name": "ipython",
    "version": 3
   },
   "file_extension": ".py",
   "mimetype": "text/x-python",
   "name": "python",
   "nbconvert_exporter": "python",
   "pygments_lexer": "ipython3",
   "version": "3.10.9"
  }
 },
 "nbformat": 4,
 "nbformat_minor": 5
}
