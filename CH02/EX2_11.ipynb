{
 "cells": [
  {
   "cell_type": "markdown",
   "id": "50a2619b",
   "metadata": {},
   "source": [
    "# Exercise 2.11: Binomial coefficients\n",
    "\n",
    "The binominial coefficient $n \\choose k$ is an integer equal to\n",
    "\n",
    "${n \\choose k} = \\frac{n!}{k!(n-k)!} = \\frac{n \\times (n-1) \\times (n-2) \\times \\ldots \\times (n - k + 1)}{1 \\times 2 \\times \\ldots \\times k}$\n",
    "\n",
    "when $k\\geq1$, or ${n\\choose0} = 1$ when $k=0$."
   ]
  },
  {
   "cell_type": "markdown",
   "id": "3e05746a",
   "metadata": {},
   "source": [
    "a)\n",
    "Using this form for the binomial coefficient, write a Python user-defined function binomial(n,k) that calculates the binomial coefficient for given $n$ and $k$. Make sure your function returns the answer in the form of an integer (not a float) and gives the correct value of 1 for the case where $k=0$."
   ]
  },
  {
   "cell_type": "code",
   "execution_count": 13,
   "id": "6ea4825b",
   "metadata": {},
   "outputs": [],
   "source": [
    "def factorial(n):\n",
    "    '''\n",
    "    calculates the factorial for a given n\n",
    "    parameters:\n",
    "    n - int number\n",
    "    total - returns int number\n",
    "    '''\n",
    "    \n",
    "    if n==0 or n==1:\n",
    "        return 1\n",
    "    else:\n",
    "        total =1\n",
    "        for i in range(2, n+1):\n",
    "            total *= i\n",
    "        return total\n",
    "    \n",
    "def binomial(n,k):\n",
    "    '''\n",
    "    Calculates the binomial coefficient for given n and k\n",
    "    parameters:\n",
    "    n - int number\n",
    "    k - int number\n",
    "    \n",
    "    '''\n",
    "    \n",
    "    numerator = factorial(n)\n",
    "    denum     = factorial(k)*factorial(n-k)\n",
    "    return int(numerator/denum)"
   ]
  },
  {
   "cell_type": "code",
   "execution_count": 14,
   "id": "38f776ba",
   "metadata": {},
   "outputs": [
    {
     "data": {
      "text/plain": [
       "120"
      ]
     },
     "execution_count": 14,
     "metadata": {},
     "output_type": "execute_result"
    }
   ],
   "source": [
    "factorial(5)"
   ]
  },
  {
   "cell_type": "code",
   "execution_count": 15,
   "id": "bef9f50f",
   "metadata": {},
   "outputs": [
    {
     "data": {
      "text/plain": [
       "3"
      ]
     },
     "execution_count": 15,
     "metadata": {},
     "output_type": "execute_result"
    }
   ],
   "source": [
    "binomial(3,2)"
   ]
  },
  {
   "cell_type": "markdown",
   "id": "346539a4",
   "metadata": {},
   "source": [
    "b)\n",
    "Using your function write a program to print out the first20 lines of \"Pascal's traignle.\" The $n$th line of Pascal's triangle contains $n + 1$ numbers, which are the coefficients $n\\choose0$, $n\\choose1$, and so on up to $n\\choose n$. "
   ]
  },
  {
   "cell_type": "code",
   "execution_count": 18,
   "id": "a430fd22",
   "metadata": {},
   "outputs": [],
   "source": [
    "def pascal_triangle(n=5):\n",
    "    '''\n",
    "    prints out the first n lines of pascal's triangle\n",
    "    '''\n",
    "    \n",
    "    for i in range(1, n+1):\n",
    "        to_print_list = []\n",
    "        for j in range(i+1):\n",
    "            to_print_list.append(str(binomial(i,j)))\n",
    "        #print(i, to_print_list)\n",
    "        print(\" \".join(to_print_list))"
   ]
  },
  {
   "cell_type": "code",
   "execution_count": 19,
   "id": "a6921ed1",
   "metadata": {},
   "outputs": [
    {
     "name": "stdout",
     "output_type": "stream",
     "text": [
      "1 1\n",
      "1 2 1\n",
      "1 3 3 1\n",
      "1 4 6 4 1\n",
      "1 5 10 10 5 1\n"
     ]
    }
   ],
   "source": [
    "pascal_triangle()"
   ]
  },
  {
   "cell_type": "markdown",
   "id": "3e342695",
   "metadata": {},
   "source": [
    "c)\n",
    "The probability that an unbiased coin, tossed $n$ times, will come heads $k$ times is ${n\\choose k}/2^n$. Write a program to calculate (a) the probability that a coin tossed 100 times comes up heads exactly 60 times, and (b) the probability that it comes up heads 60 or more times"
   ]
  },
  {
   "cell_type": "code",
   "execution_count": 23,
   "id": "36b13ef8",
   "metadata": {},
   "outputs": [
    {
     "name": "stdout",
     "output_type": "stream",
     "text": [
      "The probability that out of 100 coint tosses we get exactly 60 heads is p = 0.011\n"
     ]
    }
   ],
   "source": [
    "# exactly 60 heads\n",
    "n = 100\n",
    "k = 60\n",
    "print(f\"The probability that out of {n} coint tosses we get exactly {k} heads is p = {round(binomial(n, k)/(2**n),4)}\")"
   ]
  },
  {
   "cell_type": "code",
   "execution_count": 25,
   "id": "9b2da860",
   "metadata": {},
   "outputs": [
    {
     "name": "stdout",
     "output_type": "stream",
     "text": [
      "The probability that out of 100 coint tosses we get 100 or more heads is p = 0.0284\n"
     ]
    }
   ],
   "source": [
    "# 60 or more heads\n",
    "\n",
    "n = 100\n",
    "prob = 0\n",
    "for k in range(60, 101):\n",
    "    prob += (binomial(n,k)/(2**n))\n",
    "print(f\"The probability that out of {n} coint tosses we get {k} or more heads is p = {round(prob,4)}\")"
   ]
  },
  {
   "cell_type": "code",
   "execution_count": null,
   "id": "d332be31",
   "metadata": {},
   "outputs": [],
   "source": []
  }
 ],
 "metadata": {
  "kernelspec": {
   "display_name": "Python 3 (ipykernel)",
   "language": "python",
   "name": "python3"
  },
  "language_info": {
   "codemirror_mode": {
    "name": "ipython",
    "version": 3
   },
   "file_extension": ".py",
   "mimetype": "text/x-python",
   "name": "python",
   "nbconvert_exporter": "python",
   "pygments_lexer": "ipython3",
   "version": "3.10.9"
  }
 },
 "nbformat": 4,
 "nbformat_minor": 5
}
