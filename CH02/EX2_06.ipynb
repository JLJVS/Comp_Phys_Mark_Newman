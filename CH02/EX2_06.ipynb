{
 "cells": [
  {
   "cell_type": "markdown",
   "id": "68032cd7",
   "metadata": {},
   "source": [
    "# Exercise 2.6: Planetary orbits\n",
    "\n",
    "The orbit in space of one body around another, such as a planet around the Sun, need not be circular. In general it takes the form of an ellipse, with the body sometimes closer in and sometimes further out. If you are given the distance $l_1$ of closest approach that a planet makes to the Sun, also called its _perihelion_, and itst linear velocity $v_1$ at perihelion, then any other property of the orbit can be calculated from these two as follows.\n",
    "\n",
    "a) Kepler's second law tells us that the distance $l_2$ and velocity $v_2$ of the planet at its most distant point, or _aphelion_, satisfy $l_2v_2 = l_1v_1$. At the same time the total energy, kinetic plus gravitational, of a planet with velocity $v$ and distance $r$ from the Sun is given by\n",
    "\n",
    "$E = \\frac{1}{2}mv^{2} - G\\frac{mM}{r}$,\n",
    "\n",
    "WHERE $M$ IS THE PLANET'S MASS, $M = 1.9891 \\times 10^{30}$ kg is the mass of the Sun, and $G = 6.6738 \\times 10^{-11} \\text{m}^3\\text{kg}^{-1}\\text{s}^{-2}$ is Newton's gravitational constant. Given that energy must be conserved, show that $v_2$ is the smaller root of the quadratic equation\n",
    "\n",
    "$v_2^2 - \\frac{2GM}{v_1l_1}v_2 - \\bigg[v_1^2 - \\frac{2GM}{l_1} \\bigg] = 0$."
   ]
  },
  {
   "cell_type": "markdown",
   "id": "4b8269b9",
   "metadata": {},
   "source": [
    "a)\n",
    "To solve use the fact that energy must be conserved:\n",
    "\n",
    "$\\frac{1}{2}mv_1^2 - G\\frac{mM}{l_1} = \\frac{1}{2}mv_2^2 - G\\frac{mM}{l_2}$\n",
    "\n",
    "note $m$ is in all the terms so can be removed\n",
    "\n",
    "$\\frac{1}{2}v_1^2 - G\\frac{M}{l_1} = \\frac{1}{2}v_2^2 - G\\frac{M}{l_2}$\n",
    "\n",
    "from $l_2v_2 = l_1v_1$ we can derive $l_2 = \\frac{l_1v_1}{v_2}$ and substitute into the equation above:\n",
    "\n",
    "\n",
    "$\\frac{1}{2}v_1^2 - G\\frac{M}{l_1} = \\frac{1}{2}v_2^2 - G\\frac{M}{l_1v_1}v_2$\n",
    "\n",
    "$v_1^2 - 2G\\frac{M}{l_1} = v_2^2 - 2G\\frac{M}{l_1v_1}v_2$\n",
    "\n",
    "$v_2^2 - 2\\frac{GM}{l_1v_1}v_2 - v_1^2 + 2\\frac{GM}{l_1} = 0$\n",
    "\n",
    "which is our desired result\n",
    "\n"
   ]
  },
  {
   "cell_type": "code",
   "execution_count": 7,
   "id": "d8efed25",
   "metadata": {},
   "outputs": [],
   "source": [
    "def orbital_speed_calculator(l1, v1):\n",
    "    '''\n",
    "    Calculates l2, v2 for the given l1, v1\n",
    "    Parameters:\n",
    "    l1 - float distance to the sun for the perihelion\n",
    "    v1 - float speed at the perihelion\n",
    "    l2 - float distance to the sun at the aphelion\n",
    "    v2 - float speed at the aphelion\n",
    "    ''' \n",
    "    \n",
    "    G = 6.6738e-11 # m**3 k**-1 s**-2\n",
    "    M = 1.9891e30 # kg\n",
    "    a = 1\n",
    "    b = - 2*G*M/(l1*v1)\n",
    "    c = - (v1**2 - 2*G*M/l1)\n",
    "    v2 = [(-b-(b**2-4*a*c)**0.5)/(2*a), (-b+(b**2-4*a*c)**0.5)/(2*a)]\n",
    "    l2 = l1*v1/min(v2)\n",
    "    return l2, min(v2)"
   ]
  },
  {
   "cell_type": "markdown",
   "id": "7c82bf70",
   "metadata": {},
   "source": [
    "b)\n",
    "Given the values of $v_1$, $l_1$ and $l_2$, other parameters of the orbit are given by simple formulas can that be derived from Kepler's laws and the fact that the orbit is an ellipse:\n",
    "\n",
    "- Semi-major axis: $a = \\frac{1}{2}(l_1+l_2)$,\n",
    "- Semi-minor axis: $b = \\sqrt{l_1l_2}$,\n",
    "- Orbital period: $T = \\frac{2\\pi ab}{l_1v_1}$,\n",
    "- Orbital eccentricity: $e = \\frac{l_2-l_1}{l_2+l_1}$.\n",
    "\n",
    "Write a program that asks the user to enter the distance to the Sun and velocity at perihelion, then calculates and prints the quantites $l_2$, $v_2$, $T$ and $e$."
   ]
  },
  {
   "cell_type": "code",
   "execution_count": 6,
   "id": "e10c7a04",
   "metadata": {},
   "outputs": [],
   "source": [
    "from math import sqrt, pi\n",
    "\n",
    "def orbital_calculator(l1, v1):\n",
    "    '''\n",
    "    Calculates the l2, v2 and T for an elliptical orbit from the given l1 and v1 (distance and speed at the perihelion)\n",
    "    \n",
    "    parameters:\n",
    "    l1 - float the distance to the sun at the perihelion\n",
    "    v1 - float the speed at the perihelion\n",
    "    l2 - float the distance at the aphelion\n",
    "    v2 - float the speed at the aphelion\n",
    "    T  - float the orbital period \n",
    "    '''\n",
    "    l1v1 = l1*v1\n",
    "    l2, v2 = orbital_speed_calculator(l1, v1)\n",
    "    a = (l1+l2)/2\n",
    "    b = sqrt(l1*l2)\n",
    "    T = 2*pi*a*b/(l1v1)/(60*60*24*365)\n",
    "    e = (l2-l1)/(l2+l1)\n",
    "    print(f\"For the orbital ellipse with the given l_1={l1} and v_1={v1}\")\n",
    "    print(f\"We find the  orbital period T={round(T,2)} years and eccentricity e={round(e,2)}\")"
   ]
  },
  {
   "cell_type": "code",
   "execution_count": 5,
   "id": "f9e9d01c",
   "metadata": {},
   "outputs": [
    {
     "name": "stdout",
     "output_type": "stream",
     "text": [
      "Earth\n",
      "For the orbital ellipse with the given l_1=147100000000.0 and v_1=30287.0\n",
      "We find the  orbital period T=1.0 years and eccentricity e=0.02\n",
      "Haley's Comet\n",
      "For the orbital ellipse with the given l_1=87830000000.0 and v_1=54529.0\n",
      "We find the  orbital period T=76.08 years and eccentricity e=0.97\n"
     ]
    }
   ],
   "source": [
    "# earth and haley's comet\n",
    "satellites = [(1.471e11, 3.0287e4), (8.7830e10, 5.4529e4)]\n",
    "names = [\"Earth\", \"Haley's Comet\"]\n",
    "for (l1,v1), name in zip(satellites, names):\n",
    "    print(name)\n",
    "    orbital_calculator(l1,v1)"
   ]
  },
  {
   "cell_type": "code",
   "execution_count": null,
   "id": "ab5a933a",
   "metadata": {},
   "outputs": [],
   "source": []
  },
  {
   "cell_type": "code",
   "execution_count": null,
   "id": "fe63f299",
   "metadata": {},
   "outputs": [],
   "source": []
  }
 ],
 "metadata": {
  "kernelspec": {
   "display_name": "Python 3 (ipykernel)",
   "language": "python",
   "name": "python3"
  },
  "language_info": {
   "codemirror_mode": {
    "name": "ipython",
    "version": 3
   },
   "file_extension": ".py",
   "mimetype": "text/x-python",
   "name": "python",
   "nbconvert_exporter": "python",
   "pygments_lexer": "ipython3",
   "version": "3.10.9"
  }
 },
 "nbformat": 4,
 "nbformat_minor": 5
}
