{
 "cells": [
  {
   "cell_type": "markdown",
   "id": "fdfc5b07",
   "metadata": {},
   "source": [
    "# Exercise 2.4:\n",
    "A spaceship travels from Earth in a straight line at relativistic speed `v` to another planet `x` light years away. Write a program to ask the user for the value of `x` and the speed `v` as a fraction of the speed of light `c`, then print out the time in years that the spaceship takes to reach its destination (a) in the rest frame of an observer on Earth and (b) as perceived by a passenger on board the ship. Use your program to calculate the answers for a planet 10 light years away with $v=0.99\\text{c}$."
   ]
  },
  {
   "cell_type": "markdown",
   "id": "932556ef",
   "metadata": {},
   "source": [
    "https://en.wikipedia.org/wiki/Time_dilation\n",
    "\n",
    "$\\Delta't = \\frac{\\Delta t}{\\sqrt{1-\\frac{v^2}{c^2}}}$\n",
    "\n",
    "where $\\Delta t$ is the frame on board the ship and $\\Delta't$ is the observer frame of reference"
   ]
  },
  {
   "cell_type": "code",
   "execution_count": 5,
   "id": "2a4f9bab",
   "metadata": {},
   "outputs": [],
   "source": [
    "def moving_time(x=10, v=0.99):\n",
    "    '''\n",
    "    Calculates the time it takes the ship to travel the distance x (in lightyears) for a ship travelling with a speed of v\n",
    "    and returns the time it takes in the frame of reference of the ship.\n",
    "    Parameters:\n",
    "    x - distance to travel in light years\n",
    "    v - speed as a fraction of the speed of light\n",
    "    dt - time in years\n",
    "    '''\n",
    "    t = x/v\n",
    "    gamma = 1/((1-(v**2))**0.5)\n",
    "    dt = t / gamma\n",
    "    print(f\"For the people on the ship the voyage of {x} lightyears at speed {v}c takes {round(dt,2)} years.\")\n",
    "    return dt"
   ]
  },
  {
   "cell_type": "code",
   "execution_count": 6,
   "id": "217c24d1",
   "metadata": {},
   "outputs": [],
   "source": [
    "def observer_time(x=10, v=0.99):\n",
    "    print(f\"For the people of earth it takes the ship travelling with a speed of {v}c a distance of {x} lightyears a total of {round(x/v,1)} years.\")\n",
    "    return x/v"
   ]
  },
  {
   "cell_type": "code",
   "execution_count": 7,
   "id": "2f91584d",
   "metadata": {},
   "outputs": [
    {
     "name": "stdout",
     "output_type": "stream",
     "text": [
      "For the people of earth it takes the ship travelling with a speed of 0.99c a distance of 10 lightyears a total of 10.1 years.\n"
     ]
    },
    {
     "data": {
      "text/plain": [
       "10.1010101010101"
      ]
     },
     "execution_count": 7,
     "metadata": {},
     "output_type": "execute_result"
    }
   ],
   "source": [
    "observer_time()"
   ]
  },
  {
   "cell_type": "code",
   "execution_count": 8,
   "id": "19a74334",
   "metadata": {},
   "outputs": [
    {
     "name": "stdout",
     "output_type": "stream",
     "text": [
      "For the people on the ship the voyage of 10 lightyears at speed 0.99c takes 1.42 years.\n"
     ]
    },
    {
     "data": {
      "text/plain": [
       "1.424922826228878"
      ]
     },
     "execution_count": 8,
     "metadata": {},
     "output_type": "execute_result"
    }
   ],
   "source": [
    "moving_time()"
   ]
  },
  {
   "cell_type": "code",
   "execution_count": null,
   "id": "cc64e69a",
   "metadata": {},
   "outputs": [],
   "source": []
  }
 ],
 "metadata": {
  "kernelspec": {
   "display_name": "Python 3 (ipykernel)",
   "language": "python",
   "name": "python3"
  },
  "language_info": {
   "codemirror_mode": {
    "name": "ipython",
    "version": 3
   },
   "file_extension": ".py",
   "mimetype": "text/x-python",
   "name": "python",
   "nbconvert_exporter": "python",
   "pygments_lexer": "ipython3",
   "version": "3.10.9"
  }
 },
 "nbformat": 4,
 "nbformat_minor": 5
}
