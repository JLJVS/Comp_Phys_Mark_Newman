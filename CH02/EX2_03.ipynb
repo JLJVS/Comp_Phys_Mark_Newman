{
 "cells": [
  {
   "cell_type": "markdown",
   "id": "75e73a99",
   "metadata": {},
   "source": [
    "# Exercise 2.3\n",
    "\n",
    "Write a program that converts Cartesian coordinates `x` and `y` of a point in two-dimensional space and prints the corresponding polar coordinates with the angle $\\theta$ in degrees."
   ]
  },
  {
   "cell_type": "code",
   "execution_count": 48,
   "id": "6f414fdd",
   "metadata": {},
   "outputs": [],
   "source": [
    "from numpy import arctan2, pi, sqrt\n",
    "\n",
    "def cartesian_to_polar2d(x,y):\n",
    "    '''\n",
    "    Converts 2d cartesian coordinates x, y to polar coordinates r, theta (with theta in degrees).\n",
    "    parameters:\n",
    "    x - float value for the x coordinate\n",
    "    y - float value for the y coordinate\n",
    "    r - float value for the radius r\n",
    "    theta - float value for the angle theta in degrees\n",
    "    '''\n",
    "    r = sqrt(x**2 + y**2)\n",
    "    theta = arctan2(y, x)/pi*180\n",
    "    print(f\"The coordinates x={x}, y={y} convert to radius r={round(r,2)} with an angle {round(theta,1)} degrees.\")\n",
    "    return round(r,2), round(theta,1)"
   ]
  },
  {
   "cell_type": "code",
   "execution_count": 50,
   "id": "4495344f",
   "metadata": {},
   "outputs": [],
   "source": [
    "# 1,1 should return a length of 2**0.5 and 45 degrees\n",
    "assert cartesian_to_polar2d(1,1),(1,41, 45.0)"
   ]
  },
  {
   "cell_type": "code",
   "execution_count": null,
   "id": "54f1fe2b",
   "metadata": {},
   "outputs": [],
   "source": [
    "# 1, 0 should return a length of 1 and 0 degrees"
   ]
  },
  {
   "cell_type": "code",
   "execution_count": 51,
   "id": "22b32566",
   "metadata": {},
   "outputs": [],
   "source": [
    "assert cartesian_to_polar2d(1,0),(1, 0)"
   ]
  },
  {
   "cell_type": "code",
   "execution_count": 52,
   "id": "4c06acd5",
   "metadata": {},
   "outputs": [],
   "source": [
    "# 0, 1 should return a length of 1 and 90 degrees\n",
    "assert cartesian_to_polar2d(0,1),(1, 90)"
   ]
  },
  {
   "cell_type": "code",
   "execution_count": 54,
   "id": "639b6fb3",
   "metadata": {},
   "outputs": [
    {
     "data": {
      "text/plain": [
       "(2.0, 60.0)"
      ]
     },
     "execution_count": 54,
     "metadata": {},
     "output_type": "execute_result"
    }
   ],
   "source": [
    "# use the numbers from example 2.2\n",
    "x = 1.0\n",
    "y = 1.73\n",
    "cartesian_to_polar2d(x,y)"
   ]
  },
  {
   "cell_type": "code",
   "execution_count": null,
   "id": "4af5b554",
   "metadata": {},
   "outputs": [],
   "source": []
  }
 ],
 "metadata": {
  "kernelspec": {
   "display_name": "Python 3 (ipykernel)",
   "language": "python",
   "name": "python3"
  },
  "language_info": {
   "codemirror_mode": {
    "name": "ipython",
    "version": 3
   },
   "file_extension": ".py",
   "mimetype": "text/x-python",
   "name": "python",
   "nbconvert_exporter": "python",
   "pygments_lexer": "ipython3",
   "version": "3.10.9"
  }
 },
 "nbformat": 4,
 "nbformat_minor": 5
}
