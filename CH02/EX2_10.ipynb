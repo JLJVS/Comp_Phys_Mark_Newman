{
 "cells": [
  {
   "cell_type": "markdown",
   "id": "38a6ff82",
   "metadata": {},
   "source": [
    "# Exercise 2.10: The semi-empirical mass formula\n",
    "\n",
    "In nuclear physics, the semi-empirical mass formula is a formula for calculating the approximate nuclear binding energy $B$ of an atomic nucleus with atomic number $Z$ and mass number$A$:\n",
    "\n",
    "$B = a_1A - a_2A^{2/3} - a_3\\frac{Z^2}{A^{1/3}} - a_4\\frac{(A-2Z)^2}{A} + \\frac{a_5}{A^{1/2}}$,\n",
    "\n",
    "where in units of millions of electron volts, the constants are $a_1 = 15.8$, $a_2 = 18.3$, $a_3 = 0.714$, $a_4 = 23.2$, and\n",
    "\n",
    "$a_5=0$ if $A$ is odd,\n",
    "$a_5=12.0$ if $A$ and $Z$ are both even,\n",
    "$a_5=-12.0$ if $A$ is even and $Z$ is odd."
   ]
  },
  {
   "cell_type": "markdown",
   "id": "e15d3616",
   "metadata": {},
   "source": [
    "a) \n",
    "Write a program that takes as its input the values of $A$ and $Z$, and prints out the binding energy for the corresponding atom. Use your program to find the binding energy of an atom with $A = 58$ and $Z = 28$. (Hint: The correct answer is around 500 MeV.)"
   ]
  },
  {
   "cell_type": "code",
   "execution_count": 7,
   "id": "06d62e56",
   "metadata": {},
   "outputs": [],
   "source": [
    "def binding_energy(A=58, Z=28):\n",
    "    '''\n",
    "    Calculates the binding energy B for atom with atomic number Z and mass number A\n",
    "    parameters:\n",
    "    A - int mass number \n",
    "    Z - int atomic number\n",
    "    B - float nuclear binding energy\n",
    "    '''\n",
    "    \n",
    "    a1 = 15.8\n",
    "    a2 = 18.3\n",
    "    a3 = 0.714\n",
    "    a4 = 23.2\n",
    "    \n",
    "    if A%2==1:\n",
    "        a5 = 0\n",
    "    elif A%2==0 and Z%2==0:\n",
    "        a5=12.0\n",
    "    else:\n",
    "        a5=-12.0\n",
    "        \n",
    "    B = a1*A - a2*A**(2/3) - a3*Z**2/(A**(1/3)) - a4*(A-2*Z)**2/A + a5/(A**0.5)\n",
    "    \n",
    "    print(f\"The nuclear binding energy for an atom with atomic number {Z} and atomic mass {A} is {round(B,2)} MeV\")"
   ]
  },
  {
   "cell_type": "code",
   "execution_count": 8,
   "id": "5c8f771d",
   "metadata": {},
   "outputs": [
    {
     "name": "stdout",
     "output_type": "stream",
     "text": [
      "The nuclear binding energy for an atom with atomic number 28 and atomic mass 58 is 497.56 MeV\n"
     ]
    }
   ],
   "source": [
    "binding_energy()"
   ]
  },
  {
   "cell_type": "markdown",
   "id": "c40f1672",
   "metadata": {},
   "source": [
    "b)\n",
    "Modify your program to print out not the total binding energy $B$, but the binding energy per nucleon, which is $B/A$."
   ]
  },
  {
   "cell_type": "code",
   "execution_count": 11,
   "id": "89c8b9ed",
   "metadata": {},
   "outputs": [],
   "source": [
    "def binding_energy_per_nucleon(A=58, Z=28, toPrint = True):\n",
    "    '''\n",
    "    Calculates the binding energy B for atom with atomic number Z and mass number A\n",
    "    parameters:\n",
    "    A - int mass number \n",
    "    Z - int atomic number\n",
    "    B - float nuclear binding energy\n",
    "    '''\n",
    "    \n",
    "    a1 = 15.8\n",
    "    a2 = 18.3\n",
    "    a3 = 0.714\n",
    "    a4 = 23.2\n",
    "    \n",
    "    if A%2==1:\n",
    "        a5 = 0\n",
    "    elif A%2==0 and Z%2==0:\n",
    "        a5=12.0\n",
    "    else:\n",
    "        a5=-12.0\n",
    "        \n",
    "    B = a1*A - a2*A**(2/3) - a3*Z**2/(A**(1/3)) - a4*(A-2*Z)**2/A + a5/(A**0.5)\n",
    "    if toPrint:\n",
    "        print(f\"The nuclear binding energy per nucleon for an atom with atomic number {Z} and atomic mass {A} is {round(B/A,2)} MeV\")\n",
    "    \n",
    "    return B/A"
   ]
  },
  {
   "cell_type": "code",
   "execution_count": 12,
   "id": "70f8eaa1",
   "metadata": {},
   "outputs": [
    {
     "name": "stdout",
     "output_type": "stream",
     "text": [
      "The nuclear binding energy per nucleon for an atom with atomic number 28 and atomic mass 58 is 8.58 MeV\n"
     ]
    },
    {
     "data": {
      "text/plain": [
       "8.578655527973059"
      ]
     },
     "execution_count": 12,
     "metadata": {},
     "output_type": "execute_result"
    }
   ],
   "source": [
    "binding_energy_per_nucleon()"
   ]
  },
  {
   "cell_type": "markdown",
   "id": "65afad92",
   "metadata": {},
   "source": [
    "c)\n",
    "Now modify your program so that it takes as input just a single value of the atomic number $Z$ and then goes through all values of $A$ from $A = Z$ to $A = 3Z$, to find the one that has the largest binding energy per nucleon. This is the most stable nucleus with the given atomic number. Have your program print out the value of $A$ for this most stable nucleus and the value of the binding energy per nucleon."
   ]
  },
  {
   "cell_type": "code",
   "execution_count": 22,
   "id": "2f8f1e56",
   "metadata": {},
   "outputs": [],
   "source": [
    "def most_stable_finder(Z=58):\n",
    "    '''\n",
    "    Calculates the most stable configuration for a given atom with atomic number Z and returns the corresponding atomic mass A\n",
    "    parameters:\n",
    "    A - int mass number \n",
    "    Z - int atomic number\n",
    "    B - float nuclear binding energy\n",
    "    '''\n",
    "    \n",
    "    highest_binding_energy = 0\n",
    "    most_stable_mass = 0\n",
    "    \n",
    "    for mass in range(Z, 3*Z+1):\n",
    "        binding_energy = binding_energy_per_nucleon(A=mass, Z=Z, toPrint=False)\n",
    "        if binding_energy > highest_binding_energy:\n",
    "            highest_binding_energy = binding_energy\n",
    "            most_stable_mass = mass\n",
    "    #print(round(highest_binding_energy,3), most_stable_mass)\n",
    "    return round(highest_binding_energy,3), most_stable_mass"
   ]
  },
  {
   "cell_type": "code",
   "execution_count": 23,
   "id": "a6f304b5",
   "metadata": {},
   "outputs": [
    {
     "data": {
      "text/plain": [
       "(8.702, 62)"
      ]
     },
     "execution_count": 23,
     "metadata": {},
     "output_type": "execute_result"
    }
   ],
   "source": [
    "most_stable_finder(Z=28)"
   ]
  },
  {
   "cell_type": "markdown",
   "id": "8f8cefae",
   "metadata": {},
   "source": [
    "d)\n",
    "Modify your program again so that, instead of taking $Z$ as input, it runs through all values of $Z$ from 1 to 100 and prints out the most stable value of $A$ for each one. At what value of $Z$ does the maximum binding energy per nucleon occur?\n",
    "(The true answer, in real life, is $Z=28$, which is nickel.)"
   ]
  },
  {
   "cell_type": "code",
   "execution_count": 30,
   "id": "3e8e3203",
   "metadata": {},
   "outputs": [],
   "source": [
    "def all_atomic_numbers_upto_n(n=100):\n",
    "    '''\n",
    "    Calculates the binding energy and the most stable configuration for all atomic numbers from 1 to n\n",
    "    '''\n",
    "    \n",
    "    most_stable_config = 0, 0\n",
    "    highest_binding_energy = 0\n",
    "    \n",
    "    \n",
    "    for z in range(1, n+1):\n",
    "        binding_energy, mass = most_stable_finder(z)\n",
    "        if binding_energy > highest_binding_energy:\n",
    "            highest_binding_energy = binding_energy\n",
    "            most_stable_config = z, mass\n",
    "        print(f\"Z={z} with atomic mass {mass} has the highest binding energy B={binding_energy}\")\n",
    "    print(most_stable_config, highest_binding_energy)"
   ]
  },
  {
   "cell_type": "code",
   "execution_count": 31,
   "id": "aa81877a",
   "metadata": {},
   "outputs": [
    {
     "name": "stdout",
     "output_type": "stream",
     "text": [
      "Z=1 with atomic mass 3 has the highest binding energy B=0.369\n",
      "Z=2 with atomic mass 4 has the highest binding energy B=5.322\n",
      "Z=3 with atomic mass 7 has the highest binding energy B=5.28\n",
      "Z=4 with atomic mass 8 has the highest binding energy B=6.466\n",
      "Z=5 with atomic mass 11 has the highest binding energy B=6.65\n",
      "Z=6 with atomic mass 14 has the highest binding energy B=7.201\n",
      "Z=7 with atomic mass 15 has the highest binding energy B=7.331\n",
      "Z=8 with atomic mass 18 has the highest binding energy B=7.719\n",
      "Z=9 with atomic mass 19 has the highest binding energy B=7.737\n",
      "Z=10 with atomic mass 22 has the highest binding energy B=8.035\n",
      "Z=11 with atomic mass 25 has the highest binding energy B=8.026\n",
      "Z=12 with atomic mass 26 has the highest binding energy B=8.241\n",
      "Z=13 with atomic mass 29 has the highest binding energy B=8.241\n",
      "Z=14 with atomic mass 30 has the highest binding energy B=8.379\n",
      "Z=15 with atomic mass 33 has the highest binding energy B=8.385\n",
      "Z=16 with atomic mass 36 has the highest binding energy B=8.489\n",
      "Z=17 with atomic mass 37 has the highest binding energy B=8.482\n",
      "Z=18 with atomic mass 40 has the highest binding energy B=8.573\n",
      "Z=19 with atomic mass 43 has the highest binding energy B=8.552\n",
      "Z=20 with atomic mass 44 has the highest binding energy B=8.627\n",
      "Z=21 with atomic mass 47 has the highest binding energy B=8.61\n",
      "Z=22 with atomic mass 48 has the highest binding energy B=8.659\n",
      "Z=23 with atomic mass 51 has the highest binding energy B=8.645\n",
      "Z=24 with atomic mass 54 has the highest binding energy B=8.687\n",
      "Z=25 with atomic mass 55 has the highest binding energy B=8.663\n",
      "Z=26 with atomic mass 58 has the highest binding energy B=8.701\n",
      "Z=27 with atomic mass 61 has the highest binding energy B=8.678\n",
      "Z=28 with atomic mass 62 has the highest binding energy B=8.702\n",
      "Z=29 with atomic mass 65 has the highest binding energy B=8.682\n",
      "Z=30 with atomic mass 68 has the highest binding energy B=8.702\n",
      "Z=31 with atomic mass 69 has the highest binding energy B=8.675\n",
      "Z=32 with atomic mass 72 has the highest binding energy B=8.693\n",
      "Z=33 with atomic mass 75 has the highest binding energy B=8.668\n",
      "Z=34 with atomic mass 76 has the highest binding energy B=8.677\n",
      "Z=35 with atomic mass 79 has the highest binding energy B=8.654\n",
      "Z=36 with atomic mass 82 has the highest binding energy B=8.661\n",
      "Z=37 with atomic mass 85 has the highest binding energy B=8.634\n",
      "Z=38 with atomic mass 86 has the highest binding energy B=8.639\n",
      "Z=39 with atomic mass 89 has the highest binding energy B=8.614\n",
      "Z=40 with atomic mass 92 has the highest binding energy B=8.615\n",
      "Z=41 with atomic mass 93 has the highest binding energy B=8.588\n",
      "Z=42 with atomic mass 96 has the highest binding energy B=8.588\n",
      "Z=43 with atomic mass 99 has the highest binding energy B=8.561\n",
      "Z=44 with atomic mass 102 has the highest binding energy B=8.557\n",
      "Z=45 with atomic mass 103 has the highest binding energy B=8.532\n",
      "Z=46 with atomic mass 106 has the highest binding energy B=8.528\n",
      "Z=47 with atomic mass 109 has the highest binding energy B=8.5\n",
      "Z=48 with atomic mass 110 has the highest binding energy B=8.494\n",
      "Z=49 with atomic mass 113 has the highest binding energy B=8.468\n",
      "Z=50 with atomic mass 116 has the highest binding energy B=8.461\n",
      "Z=51 with atomic mass 119 has the highest binding energy B=8.433\n",
      "Z=52 with atomic mass 120 has the highest binding energy B=8.425\n",
      "Z=53 with atomic mass 123 has the highest binding energy B=8.398\n",
      "Z=54 with atomic mass 126 has the highest binding energy B=8.389\n",
      "Z=55 with atomic mass 129 has the highest binding energy B=8.361\n",
      "Z=56 with atomic mass 130 has the highest binding energy B=8.351\n",
      "Z=57 with atomic mass 133 has the highest binding energy B=8.324\n",
      "Z=58 with atomic mass 136 has the highest binding energy B=8.313\n",
      "Z=59 with atomic mass 139 has the highest binding energy B=8.286\n",
      "Z=60 with atomic mass 140 has the highest binding energy B=8.274\n",
      "Z=61 with atomic mass 143 has the highest binding energy B=8.247\n",
      "Z=62 with atomic mass 146 has the highest binding energy B=8.235\n",
      "Z=63 with atomic mass 149 has the highest binding energy B=8.208\n",
      "Z=64 with atomic mass 150 has the highest binding energy B=8.194\n",
      "Z=65 with atomic mass 153 has the highest binding energy B=8.168\n",
      "Z=66 with atomic mass 156 has the highest binding energy B=8.154\n",
      "Z=67 with atomic mass 159 has the highest binding energy B=8.128\n",
      "Z=68 with atomic mass 162 has the highest binding energy B=8.113\n",
      "Z=69 with atomic mass 163 has the highest binding energy B=8.086\n",
      "Z=70 with atomic mass 166 has the highest binding energy B=8.072\n",
      "Z=71 with atomic mass 169 has the highest binding energy B=8.046\n",
      "Z=72 with atomic mass 172 has the highest binding energy B=8.03\n",
      "Z=73 with atomic mass 175 has the highest binding energy B=8.004\n",
      "Z=74 with atomic mass 176 has the highest binding energy B=7.988\n",
      "Z=75 with atomic mass 179 has the highest binding energy B=7.963\n",
      "Z=76 with atomic mass 182 has the highest binding energy B=7.947\n",
      "Z=77 with atomic mass 185 has the highest binding energy B=7.921\n",
      "Z=78 with atomic mass 188 has the highest binding energy B=7.905\n",
      "Z=79 with atomic mass 191 has the highest binding energy B=7.879\n",
      "Z=80 with atomic mass 192 has the highest binding energy B=7.862\n",
      "Z=81 with atomic mass 195 has the highest binding energy B=7.837\n",
      "Z=82 with atomic mass 198 has the highest binding energy B=7.82\n",
      "Z=83 with atomic mass 201 has the highest binding energy B=7.795\n",
      "Z=84 with atomic mass 204 has the highest binding energy B=7.778\n",
      "Z=85 with atomic mass 205 has the highest binding energy B=7.752\n",
      "Z=86 with atomic mass 208 has the highest binding energy B=7.735\n",
      "Z=87 with atomic mass 211 has the highest binding energy B=7.71\n",
      "Z=88 with atomic mass 214 has the highest binding energy B=7.693\n",
      "Z=89 with atomic mass 217 has the highest binding energy B=7.668\n",
      "Z=90 with atomic mass 220 has the highest binding energy B=7.651\n",
      "Z=91 with atomic mass 223 has the highest binding energy B=7.626\n",
      "Z=92 with atomic mass 224 has the highest binding energy B=7.608\n",
      "Z=93 with atomic mass 227 has the highest binding energy B=7.584\n",
      "Z=94 with atomic mass 230 has the highest binding energy B=7.566\n",
      "Z=95 with atomic mass 233 has the highest binding energy B=7.542\n",
      "Z=96 with atomic mass 236 has the highest binding energy B=7.524\n",
      "Z=97 with atomic mass 239 has the highest binding energy B=7.499\n",
      "Z=98 with atomic mass 242 has the highest binding energy B=7.481\n",
      "Z=99 with atomic mass 243 has the highest binding energy B=7.457\n",
      "Z=100 with atomic mass 246 has the highest binding energy B=7.439\n",
      "(28, 62) 8.702\n"
     ]
    }
   ],
   "source": [
    "all_atomic_numbers_upto_n()"
   ]
  },
  {
   "cell_type": "code",
   "execution_count": null,
   "id": "eeda9a0a",
   "metadata": {},
   "outputs": [],
   "source": []
  }
 ],
 "metadata": {
  "kernelspec": {
   "display_name": "Python 3 (ipykernel)",
   "language": "python",
   "name": "python3"
  },
  "language_info": {
   "codemirror_mode": {
    "name": "ipython",
    "version": 3
   },
   "file_extension": ".py",
   "mimetype": "text/x-python",
   "name": "python",
   "nbconvert_exporter": "python",
   "pygments_lexer": "ipython3",
   "version": "3.10.9"
  }
 },
 "nbformat": 4,
 "nbformat_minor": 5
}
