{
 "cells": [
  {
   "cell_type": "markdown",
   "id": "25b0bcc5",
   "metadata": {},
   "source": [
    "# Exercise 2.8: Suppose arrays a and b are defined as follows:\n",
    "\n"
   ]
  },
  {
   "cell_type": "code",
   "execution_count": 1,
   "id": "e749a93f",
   "metadata": {},
   "outputs": [],
   "source": [
    "from numpy import array\n",
    "a = array([1,2,3,4], int)\n",
    "b = array([2,4,6,8], int)"
   ]
  },
  {
   "cell_type": "code",
   "execution_count": 2,
   "id": "70e19ea8",
   "metadata": {},
   "outputs": [
    {
     "name": "stdout",
     "output_type": "stream",
     "text": [
      "[3. 3. 3. 3.]\n"
     ]
    }
   ],
   "source": [
    "#a) # [2/1+1 , 4/2+1, 6/3+1, 8/4+1]\n",
    "print(b/a+1)"
   ]
  },
  {
   "cell_type": "code",
   "execution_count": 3,
   "id": "3788c6a0",
   "metadata": {},
   "outputs": [
    {
     "name": "stdout",
     "output_type": "stream",
     "text": [
      "[1.         1.33333333 1.5        1.6       ]\n"
     ]
    }
   ],
   "source": [
    "#b) [2/(1+1), 4/(2+1), 6/(3+1), 8/(4+1)]\n",
    "print(b/(a+1))"
   ]
  },
  {
   "cell_type": "code",
   "execution_count": 4,
   "id": "ead027fc",
   "metadata": {},
   "outputs": [
    {
     "name": "stdout",
     "output_type": "stream",
     "text": [
      "[1.         0.5        0.33333333 0.25      ]\n"
     ]
    }
   ],
   "source": [
    "#c) [1/1, 1/2, 1/3, 1/4]\n",
    "print(1/a)"
   ]
  },
  {
   "cell_type": "code",
   "execution_count": null,
   "id": "de20db18",
   "metadata": {},
   "outputs": [],
   "source": []
  }
 ],
 "metadata": {
  "kernelspec": {
   "display_name": "Python 3 (ipykernel)",
   "language": "python",
   "name": "python3"
  },
  "language_info": {
   "codemirror_mode": {
    "name": "ipython",
    "version": 3
   },
   "file_extension": ".py",
   "mimetype": "text/x-python",
   "name": "python",
   "nbconvert_exporter": "python",
   "pygments_lexer": "ipython3",
   "version": "3.10.9"
  }
 },
 "nbformat": 4,
 "nbformat_minor": 5
}
