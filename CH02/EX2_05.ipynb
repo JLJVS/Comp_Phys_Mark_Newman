{
 "cells": [
  {
   "cell_type": "markdown",
   "id": "71365c6d",
   "metadata": {},
   "source": [
    "# Exercise 2.5: Quantum potential step\n",
    "A well-known quantum mechanics problem involves a particle of mass `m` that encounters a one-dimensional potential step, like shown below.\n",
    "\n",
    "The particle with initial kinetic energy `E` and wavevector $k_1 = \\sqrt{2mE}/\\hbar$ enters from the left and encounters a sudden jump in potential energy of height `V` at position $x = 0$. By solving the Schrödinger equation, one can show that when `E` > `V` the particle may either (a) pass the step, in which case it has a lower kinetic energy of `E` - `V` on the other side and a correspondingly smaller wavevector of $k_2 = \\sqrt{2m(E-V)}/\\hbar$, or (b) it may be reflected, keeping all of its kinetic energy and an unchanged wavevector but moving in the opposite direction. The probabilities `T` and `R` for transmission and reflection are given by:\n",
    "\n",
    "$$T=\\frac{4k_1k_2}{(k_1+k_2)^2}\\\\\n",
    "R = \\bigg(\\frac{k_1-k_2}{k_1+k_2}\\bigg)^2\n",
    "$$\n",
    "\n",
    "Suppose we have a particle with mass equal to the electron mass $m = 9.11 \\times 10^{-31}\\text{kg}$ and energy $10 \\text{eV}$ encountering a potential step of height $9 \\text{eV}$. Write a Python program to compute and print out the transmission and reflection probabilities using the formulas above."
   ]
  },
  {
   "cell_type": "code",
   "execution_count": 10,
   "id": "249e4bbb",
   "metadata": {},
   "outputs": [],
   "source": [
    "def transmission_calculator(m=9.11e-31, E=10, V=9):\n",
    "    '''\n",
    "    Calculates the transmission probability for a particle with mass m and energy E encountering a potential wall of height V,\n",
    "    and returns the probability of transmission as a fraction between 0 and 1\n",
    "    Parameters:\n",
    "    m - the weight in kilograms defaults to 9.11e-31 kg\n",
    "    E - the energy of the particle in electronVolt 10eV\n",
    "    V - the height of the potential wall in electronVolt defaults to 9eV\n",
    "    T - the probability of transmission as a fraction between 0 and 1.\n",
    "    '''\n",
    "    hbar = 6.582e-16 # in eV\n",
    "    k1 = (2*m*E)**0.5 / hbar\n",
    "    k2 = (2*m*(E-V))**0.5 / hbar\n",
    "    T = (4*k1*k2)/(k1+k2)**2\n",
    "    print(f\"There's a probability of {round(T,2)} transmission occurring.\")\n",
    "    return round(T,2)\n",
    "    "
   ]
  },
  {
   "cell_type": "code",
   "execution_count": 11,
   "id": "31ae6c21",
   "metadata": {},
   "outputs": [],
   "source": [
    "def reflection_calculator(m=9.11e-31, E=10, V=9):\n",
    "    '''\n",
    "    Calculates the reflection probability for a particle with mass m and energy E encountering a potential wall of height V,\n",
    "    and returns the probability of reflection as a fraction between 0 and 1\n",
    "    Parameters:\n",
    "    m - the weight in kilograms defaults to 9.11e-31 kg\n",
    "    E - the energy of the particle in electronVolt 10eV\n",
    "    V - the height of the potential wall in electronVolt defaults to 9eV\n",
    "    R - the probability of reflection as a fraction between 0 and 1.\n",
    "    '''\n",
    "    hbar = 6.582e-16 # in eV\n",
    "    k1 = (2*m*E)**0.5 /hbar\n",
    "    k2 = (2*m*(E-V))**0.5 /hbar\n",
    "    R = ((k1-k2)/(k1+k2))**2\n",
    "    print(f\"There's a probability of {round(R,2)} reflection occurring.\")\n",
    "    return round(R,2)\n",
    "    "
   ]
  },
  {
   "cell_type": "code",
   "execution_count": 12,
   "id": "3df4b03e",
   "metadata": {},
   "outputs": [
    {
     "name": "stdout",
     "output_type": "stream",
     "text": [
      "There's a probability of 0.73 transmission occurring.\n"
     ]
    },
    {
     "data": {
      "text/plain": [
       "0.73"
      ]
     },
     "execution_count": 12,
     "metadata": {},
     "output_type": "execute_result"
    }
   ],
   "source": [
    "transmission_calculator()"
   ]
  },
  {
   "cell_type": "code",
   "execution_count": 9,
   "id": "b0088f9e",
   "metadata": {},
   "outputs": [
    {
     "name": "stdout",
     "output_type": "stream",
     "text": [
      "There's a probability of 0.27 reflection occurring.\n"
     ]
    },
    {
     "data": {
      "text/plain": [
       "0.27"
      ]
     },
     "execution_count": 9,
     "metadata": {},
     "output_type": "execute_result"
    }
   ],
   "source": [
    "reflection_calculator()"
   ]
  },
  {
   "cell_type": "code",
   "execution_count": null,
   "id": "2dc3c523",
   "metadata": {},
   "outputs": [],
   "source": []
  }
 ],
 "metadata": {
  "kernelspec": {
   "display_name": "Python 3 (ipykernel)",
   "language": "python",
   "name": "python3"
  },
  "language_info": {
   "codemirror_mode": {
    "name": "ipython",
    "version": 3
   },
   "file_extension": ".py",
   "mimetype": "text/x-python",
   "name": "python",
   "nbconvert_exporter": "python",
   "pygments_lexer": "ipython3",
   "version": "3.10.9"
  }
 },
 "nbformat": 4,
 "nbformat_minor": 5
}
