{
 "cells": [
  {
   "cell_type": "markdown",
   "id": "9babb9d0",
   "metadata": {},
   "source": [
    "# Exercise 4.4: Calculating integrals\n",
    "\n",
    "Suppose we want to calculate the value of the integral\n",
    "\n",
    "$$ I = \\int^1_{-1}\\sqrt{1-x^2}dx.$$\n",
    "\n",
    "The integrand looks like a semicricle of radius 1, and hence the value of the integral -- the area under the curve -- must be equal to $\\frac{1}{2}\\pi=1.57079632679\\ldots$\n",
    "\n",
    "Alternatively, we can evaluate the integral on the computer by dividing the domain of integration into a large number $N$ of slices of width $h = 2/N$ each and then using the Riemann definition of the integral:\n",
    "\n",
    "$$I = \\lim_{N \\rightarrow \\infty}\\sum^N_{k=1}hy_k$$\n",
    "\n",
    "where \n",
    "\n",
    "$$ y_k = \\sqrt{1-x^2_k}, \\text{   and   } x_k = -1 +hk.$$\n",
    "\n",
    "We cannot in practice take the limit $N \\rightarrow \\infty$, but we can make a reasonable approximation by just making $N$ large."
   ]
  },
  {
   "cell_type": "markdown",
   "id": "48b919e7",
   "metadata": {},
   "source": [
    "a) Write a program to evaluate the integral above with $N=100$ and compare the result with the exact value. The two will not agree very well, because $N=100$ is not a sufficiently large number of slices."
   ]
  },
  {
   "cell_type": "code",
   "execution_count": 1,
   "id": "cb4aa775",
   "metadata": {},
   "outputs": [],
   "source": [
    "import numpy as np\n",
    "\n",
    "\n",
    "def riemann(N=100):\n",
    "    '''\n",
    "    calculates the integrand for the function above for N slices\n",
    "    parameters:\n",
    "    N - int number of slice\n",
    "    I - float the surface of the integral\n",
    "    '''\n",
    "    \n",
    "    h = 2/N\n",
    "    I = 0\n",
    "    \n",
    "    for k in range(N):\n",
    "        x = -1 + h*k\n",
    "        y = h*np.sqrt(1-x**2)\n",
    "        I += y\n",
    "    return(I)"
   ]
  },
  {
   "cell_type": "code",
   "execution_count": 2,
   "id": "4e520da7",
   "metadata": {},
   "outputs": [
    {
     "name": "stdout",
     "output_type": "stream",
     "text": [
      "1.5691342555492505 1.5707963267948966\n"
     ]
    }
   ],
   "source": [
    "N = 100\n",
    "print(riemann(N), np.pi/2)"
   ]
  },
  {
   "cell_type": "markdown",
   "id": "2a912956",
   "metadata": {},
   "source": [
    "b) Increase the value of $N$ to get amore accurate value for the integral. If we rquire that the progam runs in about one second or less, how accurate a value can you get?"
   ]
  },
  {
   "cell_type": "code",
   "execution_count": 3,
   "id": "93b10f9a",
   "metadata": {},
   "outputs": [
    {
     "name": "stdout",
     "output_type": "stream",
     "text": [
      "1.662E-03\n",
      "124 µs ± 0 ns per loop (mean ± std. dev. of 1 run, 1 loop each)\n",
      "5.259E-05\n",
      "804 µs ± 0 ns per loop (mean ± std. dev. of 1 run, 1 loop each)\n",
      "1.663E-06\n",
      "6.32 ms ± 0 ns per loop (mean ± std. dev. of 1 run, 1 loop each)\n",
      "5.259E-08\n",
      "69.9 ms ± 0 ns per loop (mean ± std. dev. of 1 run, 1 loop each)\n",
      "1.663E-09\n",
      "660 ms ± 0 ns per loop (mean ± std. dev. of 1 run, 1 loop each)\n"
     ]
    }
   ],
   "source": [
    "for N in [1e2, 1e3, 1e4, 1e5, 1e6]:\n",
    "    %timeit -r 1 -n 1 print(f\"{abs(riemann(int(N)) - np.pi/2):.3E}\")"
   ]
  },
  {
   "cell_type": "code",
   "execution_count": 4,
   "id": "63f86776",
   "metadata": {},
   "outputs": [
    {
     "name": "stdout",
     "output_type": "stream",
     "text": [
      "84 µs ± 0 ns per loop (mean ± std. dev. of 1 run, 1 loop each)\n",
      "841 µs ± 0 ns per loop (mean ± std. dev. of 1 run, 1 loop each)\n",
      "7 ms ± 0 ns per loop (mean ± std. dev. of 1 run, 1 loop each)\n",
      "66 ms ± 0 ns per loop (mean ± std. dev. of 1 run, 1 loop each)\n",
      "667 ms ± 0 ns per loop (mean ± std. dev. of 1 run, 1 loop each)\n"
     ]
    }
   ],
   "source": [
    "for N in [1e2, 1e3, 1e4, 1e5, 1e6]:\n",
    "    %timeit -r 1 -n 1 riemann(int(N))"
   ]
  },
  {
   "cell_type": "markdown",
   "id": "3a7875ee",
   "metadata": {},
   "source": [
    "Note the difference in time due to the fact that the print function is called. Printing is quite slow."
   ]
  },
  {
   "cell_type": "code",
   "execution_count": null,
   "id": "5f2b9476",
   "metadata": {},
   "outputs": [],
   "source": []
  }
 ],
 "metadata": {
  "kernelspec": {
   "display_name": "Python 3 (ipykernel)",
   "language": "python",
   "name": "python3"
  },
  "language_info": {
   "codemirror_mode": {
    "name": "ipython",
    "version": 3
   },
   "file_extension": ".py",
   "mimetype": "text/x-python",
   "name": "python",
   "nbconvert_exporter": "python",
   "pygments_lexer": "ipython3",
   "version": "3.10.9"
  }
 },
 "nbformat": 4,
 "nbformat_minor": 5
}
