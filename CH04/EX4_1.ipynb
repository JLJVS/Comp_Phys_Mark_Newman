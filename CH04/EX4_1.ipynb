{
 "cells": [
  {
   "cell_type": "markdown",
   "id": "525c4260",
   "metadata": {},
   "source": [
    "# Exercise 4.1:\n",
    "\n",
    "Write a program to calculate and print hte factorial of a number entered by the user. If you wish you can base your program on the user-defined function for factorial given in Section 2.6, but write your program so that it calculates the factorial using _integer_ variables, not floating-point ones. Use your pgroam to calculate the factorial of 200."
   ]
  },
  {
   "cell_type": "code",
   "execution_count": 1,
   "id": "ceaa089b",
   "metadata": {},
   "outputs": [],
   "source": [
    "def factorial_int(n):\n",
    "    \n",
    "    total = 1\n",
    "    for i in range(2,n+1):\n",
    "        total *= i\n",
    "    return total"
   ]
  },
  {
   "cell_type": "code",
   "execution_count": 2,
   "id": "8bc49209",
   "metadata": {},
   "outputs": [
    {
     "data": {
      "text/plain": [
       "788657867364790503552363213932185062295135977687173263294742533244359449963403342920304284011984623904177212138919638830257642790242637105061926624952829931113462857270763317237396988943922445621451664240254033291864131227428294853277524242407573903240321257405579568660226031904170324062351700858796178922222789623703897374720000000000000000000000000000000000000000000000000"
      ]
     },
     "execution_count": 2,
     "metadata": {},
     "output_type": "execute_result"
    }
   ],
   "source": [
    "factorial_int(200)"
   ]
  },
  {
   "cell_type": "markdown",
   "id": "de0009bf",
   "metadata": {},
   "source": [
    "now repeat it with floating point numbers"
   ]
  },
  {
   "cell_type": "code",
   "execution_count": 4,
   "id": "fc7186e1",
   "metadata": {},
   "outputs": [],
   "source": [
    "def factorial_float(n):\n",
    "    \n",
    "    total = 1.0\n",
    "    for i in range(2,n+1):\n",
    "        total *= i\n",
    "    return total"
   ]
  },
  {
   "cell_type": "code",
   "execution_count": 5,
   "id": "4d12358a",
   "metadata": {},
   "outputs": [
    {
     "data": {
      "text/plain": [
       "inf"
      ]
     },
     "execution_count": 5,
     "metadata": {},
     "output_type": "execute_result"
    }
   ],
   "source": [
    "factorial_float(200)"
   ]
  },
  {
   "cell_type": "code",
   "execution_count": null,
   "id": "8e6da1fb",
   "metadata": {},
   "outputs": [],
   "source": []
  }
 ],
 "metadata": {
  "kernelspec": {
   "display_name": "Python 3 (ipykernel)",
   "language": "python",
   "name": "python3"
  },
  "language_info": {
   "codemirror_mode": {
    "name": "ipython",
    "version": 3
   },
   "file_extension": ".py",
   "mimetype": "text/x-python",
   "name": "python",
   "nbconvert_exporter": "python",
   "pygments_lexer": "ipython3",
   "version": "3.10.9"
  }
 },
 "nbformat": 4,
 "nbformat_minor": 5
}
