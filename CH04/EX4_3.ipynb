{
 "cells": [
  {
   "cell_type": "markdown",
   "id": "1fe4c243",
   "metadata": {},
   "source": [
    "# Exercise 4.3: Calculating derivatives\n",
    "\n",
    "Suppose we have a function of $f(x)$ and we want to calculate its derivative at a point $x$. We can do that with pencil and paper if we know the mathematical form of the function, or we can do it on the computer making use of the definition of the derivative:\n",
    "\n",
    "$$\\frac{\\text{d}f}{\\text{d}x} = \\lim_{\\delta\\rightarrow0}\\frac{f(x+\\delta)-f(x)}{\\delta}$$\n",
    "\n",
    "On the computer we can't actually take the limit ad $\\delta$ goes to zero, but we can get a reasonable approximation just by making $\\delta$ small."
   ]
  },
  {
   "cell_type": "markdown",
   "id": "2cf719b5",
   "metadata": {},
   "source": [
    "Write a program that defines a function f(x) returning the value x(x-1), then calculates the derivative of the function at the point $x=1$ using the formula above with $\\delta = 10^{-2}$. Calculate the true value of the same derivative analytically and compre with the answer your program gives. The  two will not agree perfectly. Why not?"
   ]
  },
  {
   "cell_type": "code",
   "execution_count": 2,
   "id": "fb46918e",
   "metadata": {},
   "outputs": [],
   "source": [
    "x = 1\n",
    "\n",
    "def f(x):\n",
    "    return x*(x+1)\n",
    "\n",
    "def derivative_numeric(f, x, delta = 1e-2):\n",
    "    '''\n",
    "    Calculates the derivative for the function x(x-1) at the point x with the given delta\n",
    "    parameters:\n",
    "    x - float: the point x\n",
    "    delta - float: the step size\n",
    "    ''' \n",
    "    \n",
    "    return (f(x+delta)-f(x))/delta"
   ]
  },
  {
   "cell_type": "code",
   "execution_count": 3,
   "id": "491a5411",
   "metadata": {},
   "outputs": [
    {
     "data": {
      "text/plain": [
       "3.0100000000000016"
      ]
     },
     "execution_count": 3,
     "metadata": {},
     "output_type": "execute_result"
    }
   ],
   "source": [
    "derivative_numeric(f, x=1)"
   ]
  },
  {
   "cell_type": "markdown",
   "id": "2199c69c",
   "metadata": {},
   "source": [
    "Finding the derivative by hand we start with:\n",
    "\n",
    "$$ f(x) = x(x+1)$$\n",
    "\n",
    "$$ f'(x) = 2x+1$$\n",
    "\n",
    "plugging in our $x=1$ we find $\\frac{\\text{d}f}{\\text{d}x} = 3$\n",
    "\n",
    "We have a difference of 0.01, because $\\delta \\neq 0$"
   ]
  },
  {
   "cell_type": "code",
   "execution_count": 9,
   "id": "f9ccd2a6",
   "metadata": {},
   "outputs": [
    {
     "name": "stdout",
     "output_type": "stream",
     "text": [
      "δ = 1E-04: error = 3.333E-03\n",
      "δ = 1E-06: error = 3.334E-05\n",
      "δ = 1E-08: error = 6.077E-07\n",
      "δ = 1E-10: error = 8.274E-06\n",
      "δ = 1E-12: error = 8.890E-03\n",
      "δ = 1E-14: error = 8.201E-01\n"
     ]
    }
   ],
   "source": [
    "deltas = [1e-4, 1e-6, 1e-8, 1e-10, 1e-12, 1e-14]\n",
    "x = 1\n",
    "\n",
    "for delta in deltas:\n",
    "    print(\"\\u03B4 = {:.0E}: error = {:.3E}\".format(delta, 100*abs(3-derivative_numeric(f,x=1, delta=delta))/3))"
   ]
  },
  {
   "cell_type": "markdown",
   "id": "4b4a29c1",
   "metadata": {},
   "source": [
    "As $\\delta \\rightarrow 0$ we're getting closer to dividing a small number by a small number i.e. the worst case for accuracy."
   ]
  },
  {
   "cell_type": "code",
   "execution_count": null,
   "id": "78402b66",
   "metadata": {},
   "outputs": [],
   "source": []
  }
 ],
 "metadata": {
  "kernelspec": {
   "display_name": "Python 3 (ipykernel)",
   "language": "python",
   "name": "python3"
  },
  "language_info": {
   "codemirror_mode": {
    "name": "ipython",
    "version": 3
   },
   "file_extension": ".py",
   "mimetype": "text/x-python",
   "name": "python",
   "nbconvert_exporter": "python",
   "pygments_lexer": "ipython3",
   "version": "3.10.9"
  }
 },
 "nbformat": 4,
 "nbformat_minor": 5
}
