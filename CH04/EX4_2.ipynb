{
 "cells": [
  {
   "cell_type": "markdown",
   "id": "e98882f8",
   "metadata": {},
   "source": [
    "# Exercise 4.2: Quadratic equations\n",
    "\n",
    "a) Write a programthat takes as input three numbers, $a$, $b$, and $c$, and prints out the two solutions to the quadratic equation $ax^2+bx+c=0$ using the standard formula\n",
    "\n",
    "$$ x = \\frac{-b \\pm \\sqrt{b^2-4ac}}{2a}$$\n",
    "\n",
    "Use your pgroam to compute the solutions of $0.001x^2 + 1000x + 0.001 = 0$"
   ]
  },
  {
   "cell_type": "code",
   "execution_count": 1,
   "id": "7b719dc0",
   "metadata": {},
   "outputs": [],
   "source": [
    "def quadratic_solver(a=0.001, b =1000, c=0.001):\n",
    "    '''\n",
    "    Solves the quadratic equation ax^2 + bx + c = 0\n",
    "    parameters:\n",
    "    a - float: constant a\n",
    "    b - float: constant b\n",
    "    c - float: constant c\n",
    "    x - tuple of floats: the found x solutions \n",
    "    '''\n",
    "    \n",
    "    b = float(b)\n",
    "    \n",
    "    D = (b**2-4*a*c)**0.5\n",
    "    return ((-b+D)/(2*a), (-b-D)/(2*a))"
   ]
  },
  {
   "cell_type": "code",
   "execution_count": 2,
   "id": "9d32ae9e",
   "metadata": {},
   "outputs": [
    {
     "data": {
      "text/plain": [
       "(-9.999894245993346e-07, -999999.999999)"
      ]
     },
     "execution_count": 2,
     "metadata": {},
     "output_type": "execute_result"
    }
   ],
   "source": [
    "quadratic_solver()"
   ]
  },
  {
   "cell_type": "markdown",
   "id": "4198365a",
   "metadata": {},
   "source": [
    "b) There is another way to write the solutions to a quadratic equation. Multiplying top and bottom of the solution above by $-b \\mp \\sqrt{b^2-4ac}$, show that the solutions can also be written as \n",
    "\n",
    "$$ x = \\frac{2c}{-b \\mp \\sqrt{b^2-4ac}}$$\n",
    "\n",
    "Add further lines to your program to print these values in addtino to the earlier ones and again use the program to solve $0.001x^2 + 1000x + 0.001 = 0$ and compare the solutions? What do you see? How do you explain it?"
   ]
  },
  {
   "cell_type": "code",
   "execution_count": 3,
   "id": "04c3e4d6",
   "metadata": {},
   "outputs": [],
   "source": [
    "def quadratic_solver_extended(a=0.001, b =1000, c=0.001):\n",
    "    '''\n",
    "    Solves the quadratic equation ax^2 + bx + c = 0\n",
    "    parameters:\n",
    "    a - float: constant a\n",
    "    b - float: constant b\n",
    "    c - float: constant c\n",
    "    x - tuple of floats: the found x solutions \n",
    "    '''\n",
    "    \n",
    "    b = float(b)\n",
    "    \n",
    "    D = (b**2-4*a*c)**0.5\n",
    "    print((-b+D)/(2*a), (-b-D)/(2*a))\n",
    "    \n",
    "    print((2*c)/(-b-D),(2*c)/(-b+D) )"
   ]
  },
  {
   "cell_type": "code",
   "execution_count": 4,
   "id": "400cc543",
   "metadata": {},
   "outputs": [
    {
     "name": "stdout",
     "output_type": "stream",
     "text": [
      "-9.999894245993346e-07 -999999.999999\n",
      "-1.000000000001e-06 -1000010.5755125057\n"
     ]
    }
   ],
   "source": [
    "quadratic_solver_extended()"
   ]
  },
  {
   "cell_type": "markdown",
   "id": "3d5df6b3",
   "metadata": {},
   "source": [
    "c)\n",
    "\n",
    "Using what you have learned write a new program that calculates both roots of aquadratic equation accurately in all cases\n",
    "\n"
   ]
  },
  {
   "cell_type": "code",
   "execution_count": 7,
   "id": "96d634f4",
   "metadata": {},
   "outputs": [],
   "source": [
    "def quadratic_solver_combined(a=0.001, b =1000, c=0.001):\n",
    "    '''\n",
    "    Solves the quadratic equation ax^2 + bx + c = 0\n",
    "    parameters:\n",
    "    a - float: constant a\n",
    "    b - float: constant b\n",
    "    c - float: constant c\n",
    "    x - tuple of floats: the found x solutions \n",
    "    '''\n",
    "    \n",
    "    b = float(b)\n",
    "    epsilon = 1e-8\n",
    "    D = (b**2-4*a*c)**0.5\n",
    "    \n",
    "    if b < 0:\n",
    "        sup = (-1*b + (D)**0.5)\n",
    "    elif b > 0:\n",
    "        sup = (-1*b - (D)**0.5)\n",
    "        \n",
    "    x1 = sup/(2*a)\n",
    "    x2 = c/(a*x1)\n",
    "    \n",
    "    print(\"x1 = \",x1)\n",
    "    print(\"x2 = \",x2)"
   ]
  },
  {
   "cell_type": "code",
   "execution_count": 8,
   "id": "d7c44142",
   "metadata": {},
   "outputs": [
    {
     "name": "stdout",
     "output_type": "stream",
     "text": [
      "x1 =  -515811.38830082613\n",
      "x2 =  -1.9386931399366282e-06\n"
     ]
    }
   ],
   "source": [
    "quadratic_solver_combined() # need to revisit this later"
   ]
  },
  {
   "cell_type": "code",
   "execution_count": null,
   "id": "f9bc997a",
   "metadata": {},
   "outputs": [],
   "source": []
  }
 ],
 "metadata": {
  "kernelspec": {
   "display_name": "Python 3 (ipykernel)",
   "language": "python",
   "name": "python3"
  },
  "language_info": {
   "codemirror_mode": {
    "name": "ipython",
    "version": 3
   },
   "file_extension": ".py",
   "mimetype": "text/x-python",
   "name": "python",
   "nbconvert_exporter": "python",
   "pygments_lexer": "ipython3",
   "version": "3.10.9"
  }
 },
 "nbformat": 4,
 "nbformat_minor": 5
}
