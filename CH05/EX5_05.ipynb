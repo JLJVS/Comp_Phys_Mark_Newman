{
 "cells": [
  {
   "cell_type": "markdown",
   "id": "bc34e4ca",
   "metadata": {},
   "source": [
    "# Exercise 5.5:\n",
    "Following the same line of argument that led to the error (for the trapezoidal rule)\n",
    "\n",
    "$$\\epsilon_2 = ch_2^2 = \\frac{1}{3}(I_2 -I_1)$$\n",
    "\n",
    "show that the error on an integral evaluated using Simpson's rule is given, to leading order in $h$ by starting with\n",
    "\n",
    "$$\\epsilon = \\frac{1}{90}h^4[f'''(a)-f'''(b)]$$"
   ]
  },
  {
   "cell_type": "markdown",
   "id": "137e0a17",
   "metadata": {},
   "source": [
    "We need to find the relation between the error $\\epsilon$ and the number of slices $N$.\n",
    "Let our integrand be f(x). Suppose we need to evaluate an integral over the interval from $x=a$ to $x=b$ using Simpson's rule. We'll use $N_1$ slices, which results in the step size $h_1=(b-a)/N_1$.\n",
    "\n",
    "Now we'll apply the trick shown on page 154. Double the number of steps i.e. $N_2=2N_1$ which results in the new step size $h_2=(b-a)/N_2=(b-a)/2N_1=h_1/2$. By increasing the number of steps we reduce the error. From our starting point we know that Simpson's rule introduces an error of order $O(h^4)$, so by going from $N_1$ to $N_2$ we should reduce our error by a factor of $2^4=16$. This gives an order of magnitude for our error.\n",
    "\n",
    "Let $I$ be the true value of our integral and let the estimates with step sizes $N_1$ and $N_2$ be $I_1$ and $I_2$ respectively. We know that the error in our estimates is proportional to $h^4$ so we can express our estimate as \n",
    "\n",
    "$$I = I_1 + ch_1^4$$ \n",
    "\n",
    "where $c$ is a constant. By expressing our estimate for $N_2$ in the same manner we get:\n",
    "\n",
    "$$I=I_1+ch_1^4=I_2+ch^4_2$$\n",
    "\n",
    "rewriting yields\n",
    "\n",
    "$$ I_2 - I_1 = ch_1^4-ch_2^4 = c(h_1^4-h_2^4)$$\n",
    "\n",
    "substitute our values for $h_1$ and $h_2$ into the equation\n",
    "\n",
    "$$ I_2 - I_1 = c(h^4_1-h^4_2) = c(16h_2^4-h_2^4) = 15ch^4_2$$\n",
    "\n",
    "now go back to our initial error equation for $N_2$\n",
    "\n",
    "$$ I = I_2 + ch_2^4 = I_2 + \\epsilon_2$$\n",
    "\n",
    "and by rewriting and combining our earlier results we finally get\n",
    "\n",
    "$$ \\epsilon_2 = \\frac{1}{15}ch_2^4 $$\n",
    "\n",
    "which is our desired result."
   ]
  },
  {
   "cell_type": "code",
   "execution_count": null,
   "id": "cae36865",
   "metadata": {},
   "outputs": [],
   "source": []
  }
 ],
 "metadata": {
  "kernelspec": {
   "display_name": "Python 3 (ipykernel)",
   "language": "python",
   "name": "python3"
  },
  "language_info": {
   "codemirror_mode": {
    "name": "ipython",
    "version": 3
   },
   "file_extension": ".py",
   "mimetype": "text/x-python",
   "name": "python",
   "nbconvert_exporter": "python",
   "pygments_lexer": "ipython3",
   "version": "3.10.9"
  }
 },
 "nbformat": 4,
 "nbformat_minor": 5
}
