{
 "cells": [
  {
   "cell_type": "markdown",
   "id": "b1dffa7b",
   "metadata": {},
   "source": [
    "# Exercise 5.6: \n",
    "Write a program, or modify an earlier one, to once more calculate the value of the integral $\\int^2_0(x^4 - 2x + 1)\\text{d}x$m using the trapezoidal rule with 20 slices, but this time have the program also print an estimate of error on the result, calculated using hte method of Eq. 5.28\n",
    "\n",
    "$$ \\epsilon_2 = ch^2_2=\\frac{1}{3}(I_2-I_1) \\label{eq1}$$\n",
    "\n",
    "To do this you will need to eavluate the integral twice, once with $N_1=10$ slices and then again with $N_2=20$ slices. Then the above equation gives the error. How does the error calculated in this manner compare with a direct computation of the error as the difference between your value for the integral and the true value of 4.4? Why do the two not agree perfectly?"
   ]
  },
  {
   "cell_type": "code",
   "execution_count": 1,
   "id": "722f333e",
   "metadata": {},
   "outputs": [],
   "source": [
    "import numpy as np\n",
    "import matplotlib.pyplot as plt"
   ]
  },
  {
   "cell_type": "code",
   "execution_count": 2,
   "id": "4aac0cf6",
   "metadata": {},
   "outputs": [],
   "source": [
    "def f(x):\n",
    "    return x**4 -2*x + 1\n",
    "\n",
    "\n",
    "def trap(f, x_start=0, x_end=2, N):\n",
    "    '''\n",
    "    Uses the trapezoidal rule to estimate the integrand for the function x from x_start to x_end with N slices\n",
    "    parameters:\n",
    "    f       - function to be integrated\n",
    "    x_start - float the starting value for x to be integrated\n",
    "    x_end   - float the end value for x to be integrated\n",
    "    N       - int the number of slices to be used\n",
    "    \n",
    "    ''' \n",
    "    h = (x_end - x_start)/N\n",
    "    fa = f(x_start)\n",
    "    fb = f(x_end)\n",
    "    summed = 0\n",
    "    for i in range(1, N):\n",
    "        summed += f(x_start + i*h)\n",
    "    return h*(fa/2 + fb/2 + summed)\n",
    "\n"
   ]
  },
  {
   "cell_type": "code",
   "execution_count": 13,
   "id": "848c8303",
   "metadata": {},
   "outputs": [
    {
     "name": "stdout",
     "output_type": "stream",
     "text": [
      "The estimated error for the trapezoidal rule with 20 slices is 0.026633333333333137\n",
      "There exists an exact solution for this integral which is 4.4, so we know that the exact error is 0.026660000000000572.\n",
      "So that results in a percentual error of 0.1%\n"
     ]
    }
   ],
   "source": [
    "N1 = 10\n",
    "N2 = 20\n",
    "\n",
    "x_start = 0\n",
    "x_end = 2\n",
    "\n",
    "\n",
    "I1 = trap(f,x_start, x_end, N1)\n",
    "I2 = trap(f,x_start, x_end, N2)\n",
    "error2 = (I2-I1)/3\n",
    "error_exact = 4.4-I2\n",
    "\n",
    "\n",
    "print(f\"The estimated error for the trapezoidal rule with {N2} slices is {abs(error2)}\")\n",
    "print(f\"There exists an exact solution for this integral which is 4.4, so we know that the exact error is {abs(4.4-I2)}.\")\n",
    "print(f\"So that results in a percentual error of {round(100*(error_exact-error2)/error_exact,2)}%\")"
   ]
  },
  {
   "cell_type": "code",
   "execution_count": null,
   "id": "5a9bb60d",
   "metadata": {},
   "outputs": [],
   "source": [
    "\n"
   ]
  },
  {
   "cell_type": "code",
   "execution_count": null,
   "id": "906b6a11",
   "metadata": {},
   "outputs": [],
   "source": []
  }
 ],
 "metadata": {
  "kernelspec": {
   "display_name": "Python 3 (ipykernel)",
   "language": "python",
   "name": "python3"
  },
  "language_info": {
   "codemirror_mode": {
    "name": "ipython",
    "version": 3
   },
   "file_extension": ".py",
   "mimetype": "text/x-python",
   "name": "python",
   "nbconvert_exporter": "python",
   "pygments_lexer": "ipython3",
   "version": "3.10.9"
  }
 },
 "nbformat": 4,
 "nbformat_minor": 5
}
