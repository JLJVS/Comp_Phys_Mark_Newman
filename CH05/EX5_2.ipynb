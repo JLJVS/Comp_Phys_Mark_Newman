{
 "cells": [
  {
   "cell_type": "markdown",
   "id": "3881bcfd",
   "metadata": {},
   "source": [
    "# Exercise 5.2\n",
    "\n",
    "a)Write a program to calculate an approximate value for the integral:\n",
    "\n",
    "$$\\int_0^2(x^4-2x+1)dx$$\n",
    "\n",
    "Use simpson's rule with 10 slices instead of the trapezoidal rule."
   ]
  },
  {
   "cell_type": "markdown",
   "id": "35e61296",
   "metadata": {},
   "source": [
    "Simpson's Rule\n",
    "\n",
    "$$I(a,b) = \\frac{1}{3}h\\bigg[f(a)+f(b)+4\\sum_{k \\text{ odd}}f(a+kh) + 2\\sum_{k \\text{ even}}f(a+kh)\\bigg]$$"
   ]
  },
  {
   "cell_type": "code",
   "execution_count": 7,
   "id": "da6fdcc4",
   "metadata": {},
   "outputs": [],
   "source": [
    "import numpy as np\n",
    "import matplotlib.pyplot as plt"
   ]
  },
  {
   "cell_type": "code",
   "execution_count": 15,
   "id": "f7b99cd9",
   "metadata": {},
   "outputs": [],
   "source": [
    "def f(x):\n",
    "    return x**4 -2*x + 1\n",
    "\n",
    "def simpson(f, start, end, N):\n",
    "    '''\n",
    "    Calculates the integrand for function f from start to end with N slices\n",
    "    parameters:\n",
    "    f - The function to be integrated\n",
    "    start - float the start point\n",
    "    end - float the end point\n",
    "    N - the number of slices\n",
    "    I - float the integrand\n",
    "    '''\n",
    "    \n",
    "    h = (end-start)/N\n",
    "    fa = f(start)\n",
    "    fb = f(end)\n",
    "    \n",
    "    # sum the even and odd parts\n",
    "    even, odd = 0, 0\n",
    "    for i in range(1, N):\n",
    "        if i%2==0:\n",
    "            even +=f(start+i*h)\n",
    "        else:\n",
    "            odd += f(start+i*h)\n",
    "    \n",
    "    return (1/3)*h*(fa+fb+4*odd+2*even)\n",
    "    "
   ]
  },
  {
   "cell_type": "code",
   "execution_count": 16,
   "id": "58f0d8a1",
   "metadata": {},
   "outputs": [],
   "source": [
    "def trapezoidal_rule(f, t, N):\n",
    "    '''\n",
    "    Uses the trapezoidal rule to calculate the integral for v \n",
    "    parameters:\n",
    "    t - ndarray of floats with t\n",
    "    v - ndarray of floats with the speeds\n",
    "    N - int the number of slices\n",
    "    I - float the integrand of function v\n",
    "    '''\n",
    "    a = t[0]\n",
    "    b = t[-1]\n",
    "    h = (b-a)/N\n",
    "    y = f(t)\n",
    "    I = h*(y[0]/2 + y[-1]/2 + sum(y[1:-1]))\n",
    "    return I"
   ]
  },
  {
   "cell_type": "code",
   "execution_count": 19,
   "id": "ba492f04",
   "metadata": {},
   "outputs": [
    {
     "name": "stdout",
     "output_type": "stream",
     "text": [
      "With the trapezoidal rule we find 4.07837.\n",
      "With the extended Simpson's rule we find 4.40043.\n",
      "[0.         0.22222222 0.44444444 0.66666667 0.88888889 1.11111111\n",
      " 1.33333333 1.55555556 1.77777778 2.        ]\n"
     ]
    }
   ],
   "source": [
    "N = 10\n",
    "start, end = 0, 2\n",
    "t = np.linspace(start, end, N)\n",
    "\n",
    "print(f\"With the trapezoidal rule we find {round(trapezoidal_rule(f, t, N),5)}.\")\n",
    "print(f\"With the extended Simpson's rule we find {round(simpson(f, start, end, N),5)}.\")\n"
   ]
  },
  {
   "cell_type": "markdown",
   "id": "d52c4926",
   "metadata": {},
   "source": [
    "b) Run the program and compare your result to the known correct value of 4.4. What is the fractional error on your calculation."
   ]
  },
  {
   "cell_type": "code",
   "execution_count": 24,
   "id": "349514eb",
   "metadata": {},
   "outputs": [
    {
     "name": "stdout",
     "output_type": "stream",
     "text": [
      "We find a fractional error for the trapezoidal and Simpson's rule of 0.0730972274 and 9.69697e-05 respectively.\n"
     ]
    }
   ],
   "source": [
    "print(f\"We find a fractional error for the trapezoidal and Simpson's rule of {round(abs(1-trapezoidal_rule(f, t, N)/4.4), 10)} and {round(abs(1-simpson(f, start, end, N)/4.4), 10)} respectively.\")\n",
    "\n"
   ]
  },
  {
   "cell_type": "markdown",
   "id": "0020744c",
   "metadata": {},
   "source": [
    "c) Modify the program to use a hundred slice instead, thean a thousand. Note the improvement of the result. How do the results compare?"
   ]
  },
  {
   "cell_type": "code",
   "execution_count": 27,
   "id": "f012e7e0",
   "metadata": {},
   "outputs": [
    {
     "name": "stdout",
     "output_type": "stream",
     "text": [
      "N=10\n",
      "We find a fractional error for the trapezoidal and Simpson's rule of 0.0730972274 and 9.69697e-05 respectively.\n",
      "N=100\n",
      "We find a fractional error for the trapezoidal and Simpson's rule of 0.0097551295 and 9.7e-09 respectively.\n",
      "N=1000\n",
      "We find a fractional error for the trapezoidal and Simpson's rule of 0.0009975733 and 0.0 respectively.\n"
     ]
    }
   ],
   "source": [
    "Ns = [10, 100, 1000]\n",
    "\n",
    "for N in Ns:\n",
    "    start, end = 0, 2\n",
    "    t = np.linspace(start, end, N)\n",
    "    print(f\"N={N}\")\n",
    "    print(f\"We find a fractional error for the trapezoidal and Simpson's rule of {round(abs(1-trapezoidal_rule(f, t, N)/4.4), 10)} and {round(abs(1-simpson(f, start, end, N)/4.4), 10)} respectively.\")\n",
    "\n"
   ]
  },
  {
   "cell_type": "code",
   "execution_count": null,
   "id": "6b00d4b3",
   "metadata": {},
   "outputs": [],
   "source": [
    " "
   ]
  }
 ],
 "metadata": {
  "kernelspec": {
   "display_name": "Python 3 (ipykernel)",
   "language": "python",
   "name": "python3"
  },
  "language_info": {
   "codemirror_mode": {
    "name": "ipython",
    "version": 3
   },
   "file_extension": ".py",
   "mimetype": "text/x-python",
   "name": "python",
   "nbconvert_exporter": "python",
   "pygments_lexer": "ipython3",
   "version": "3.10.9"
  }
 },
 "nbformat": 4,
 "nbformat_minor": 5
}
