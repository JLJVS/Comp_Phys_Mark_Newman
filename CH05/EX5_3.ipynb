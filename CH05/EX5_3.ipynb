{
 "cells": [
  {
   "cell_type": "markdown",
   "id": "1a33de6e",
   "metadata": {},
   "source": [
    "# Exercise 5.3:\n",
    "Consider the integral\n",
    "\n",
    "$$E(x) = \\int^x_0e^{-t^2}dt$$"
   ]
  },
  {
   "cell_type": "markdown",
   "id": "1e877ffb",
   "metadata": {},
   "source": [
    "a) Write a program to calculate $E(x)$ for values of $x$ from 0 to 3 in steps of 0.1. Choose for yourself what method you will use for performing the integral and a suitable number of slices."
   ]
  },
  {
   "cell_type": "code",
   "execution_count": 1,
   "id": "410da092",
   "metadata": {},
   "outputs": [],
   "source": [
    "import numpy as np\n",
    "import matplotlib.pyplot as plt"
   ]
  },
  {
   "cell_type": "code",
   "execution_count": 2,
   "id": "574381e3",
   "metadata": {},
   "outputs": [],
   "source": [
    "def f(x):\n",
    "    return np.exp(-x**2)"
   ]
  },
  {
   "cell_type": "code",
   "execution_count": 3,
   "id": "17329b44",
   "metadata": {},
   "outputs": [],
   "source": [
    "def simpson(f, start, end, N):\n",
    "    '''\n",
    "    Calculates the integrand for function f from start to end with N slices\n",
    "    parameters:\n",
    "    f - The function to be integrated\n",
    "    start - float the start point\n",
    "    end - float the end point\n",
    "    N - the number of slices\n",
    "    I - float the integrand\n",
    "    '''\n",
    "    \n",
    "    h = (end-start)/N\n",
    "    fa = f(start)\n",
    "    fb = f(end)\n",
    "    \n",
    "    # sum the even and odd parts\n",
    "    even, odd = 0, 0\n",
    "    for i in range(1, N):\n",
    "        if i%2==0:\n",
    "            even +=f(start+i*h)\n",
    "        else:\n",
    "            odd += f(start+i*h)\n",
    "    \n",
    "    return (1/3)*h*(fa+fb+4*odd+2*even)"
   ]
  },
  {
   "cell_type": "code",
   "execution_count": 10,
   "id": "8a483d0f",
   "metadata": {},
   "outputs": [
    {
     "name": "stdout",
     "output_type": "stream",
     "text": [
      "x=0.0, I=0.0\n",
      "x=0.1, I=0.09967\n",
      "x=0.2, I=0.19737\n",
      "x=0.3, I=0.29124\n",
      "x=0.4, I=0.37965\n",
      "x=0.5, I=0.46128\n",
      "x=0.6, I=0.53515\n",
      "x=0.7, I=0.60069\n",
      "x=0.8, I=0.65767\n",
      "x=0.9, I=0.70624\n",
      "x=1.0, I=0.74682\n",
      "x=1.1, I=0.78006\n",
      "x=1.2, I=0.80674\n",
      "x=1.3, I=0.82774\n",
      "x=1.4, I=0.84394\n",
      "x=1.5, I=0.85619\n",
      "x=1.6, I=0.86527\n",
      "x=1.7, I=0.87186\n",
      "x=1.8, I=0.87656\n",
      "x=1.9, I=0.87984\n",
      "x=2.0, I=0.88208\n",
      "x=2.1, I=0.88359\n",
      "x=2.2, I=0.88458\n",
      "x=2.3, I=0.88521\n",
      "x=2.4, I=0.88562\n",
      "x=2.5, I=0.88587\n",
      "x=2.6, I=0.88602\n",
      "x=2.7, I=0.88611\n",
      "x=2.8, I=0.88616\n",
      "x=2.9, I=0.88619\n",
      "x=3.0, I=0.88621\n"
     ]
    },
    {
     "data": {
      "text/plain": [
       "Text(0, 0.5, 'E(x)')"
      ]
     },
     "execution_count": 10,
     "metadata": {},
     "output_type": "execute_result"
    },
    {
     "data": {
      "image/png": "[encoded data removed]",
      "text/plain": [
       "<Figure size 1000x600 with 1 Axes>"
      ]
     },
     "metadata": {},
     "output_type": "display_data"
    }
   ],
   "source": [
    "xs = np.linspace(0, 3, 31)\n",
    "N = 100\n",
    "ys = []\n",
    "for x in xs:\n",
    "    start, end = 0, x\n",
    "    ys.append(simpson(f, start, end, N))\n",
    "    print(f\"x={round(x,1)}, I={round(simpson(f, start, end, N),5)}\")\n",
    "    \n",
    "plt.figure(figsize=(10,6))\n",
    "plt.title(\"E(x)\")\n",
    "plt.xlabel(\"x\")\n",
    "plt.ylabel(\"E(x)\")\n",
    "plt."
   ]
  },
  {
   "cell_type": "code",
   "execution_count": null,
   "id": "9a602830",
   "metadata": {},
   "outputs": [],
   "source": []
  }
 ],
 "metadata": {
  "kernelspec": {
   "display_name": "Python 3 (ipykernel)",
   "language": "python",
   "name": "python3"
  },
  "language_info": {
   "codemirror_mode": {
    "name": "ipython",
    "version": 3
   },
   "file_extension": ".py",
   "mimetype": "text/x-python",
   "name": "python",
   "nbconvert_exporter": "python",
   "pygments_lexer": "ipython3",
   "version": "3.10.9"
  }
 },
 "nbformat": 4,
 "nbformat_minor": 5
}
