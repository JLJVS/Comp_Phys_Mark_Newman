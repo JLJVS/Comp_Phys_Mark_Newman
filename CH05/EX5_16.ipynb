{
 "cells": [
  {
   "cell_type": "markdown",
   "id": "791fa350",
   "metadata": {},
   "source": [
    "# Exercise 5.16:\n",
    "\n",
    "Even when we can find the value of $f(x)$ for any value of $x$ the forward difference can still be more accurate than the central difference for sufficiently large $h$. For what values of $h$ will the approximation error on the forward difference of Eq. (5.87) be smaller than on the central difference of Eq. (5.95)"
   ]
  },
  {
   "cell_type": "markdown",
   "id": "47fd411c",
   "metadata": {},
   "source": [
    "## Eq 5.87\n",
    "\n",
    "$$ \\frac{\\text{d}f}{\\text{d}x} \\simeq \\frac{f(x+h) - f(x)}{h} $$"
   ]
  },
  {
   "cell_type": "markdown",
   "id": "6e1450d4",
   "metadata": {},
   "source": [
    "## Eq 5.95\n",
    "\n",
    "$$ \\frac{\\text{d}f}{\\text{d}x} \\simeq \\frac{f(x+h/2)- f(x-h/2)}{h} $$"
   ]
  },
  {
   "cell_type": "markdown",
   "id": "071470bf",
   "metadata": {},
   "source": [
    "The error for forward difference\n",
    "\n",
    "$$\\epsilon = h |f'' (x)| = \\sqrt{4C |f(x)f''(x)|} $$"
   ]
  },
  {
   "cell_type": "markdown",
   "id": "10b417fa",
   "metadata": {},
   "source": [
    "The error for central difference\n",
    "\n",
    "$$\\epsilon = \\frac{1}{8}h^2|f'''(x)| = (\\frac{9}{8}C^2[f(x)]^2|f'''(x)|)^{1/3} $$"
   ]
  },
  {
   "cell_type": "markdown",
   "id": "3857524b",
   "metadata": {},
   "source": [
    "$$ \\epsilon_f < \\epsilon_c $$\n",
    "\n",
    "$$ h|f''(x)| < \\frac{1}{8}h^2|f'''(x)| $$\n",
    "\n",
    "$$ 8 \\frac{|f''(x)|}{|f'''(x)|} < h $$"
   ]
  },
  {
   "cell_type": "markdown",
   "id": "3e48d159",
   "metadata": {},
   "source": [
    "I'm not sure if this is the desired result?"
   ]
  },
  {
   "cell_type": "code",
   "execution_count": null,
   "id": "e8bcdbf6",
   "metadata": {},
   "outputs": [],
   "source": []
  },
  {
   "cell_type": "code",
   "execution_count": null,
   "id": "f5b3218f",
   "metadata": {},
   "outputs": [],
   "source": []
  },
  {
   "cell_type": "code",
   "execution_count": null,
   "id": "3bc2cbd4",
   "metadata": {},
   "outputs": [],
   "source": []
  }
 ],
 "metadata": {
  "kernelspec": {
   "display_name": "Python 3 (ipykernel)",
   "language": "python",
   "name": "python3"
  },
  "language_info": {
   "codemirror_mode": {
    "name": "ipython",
    "version": 3
   },
   "file_extension": ".py",
   "mimetype": "text/x-python",
   "name": "python",
   "nbconvert_exporter": "python",
   "pygments_lexer": "ipython3",
   "version": "3.10.9"
  }
 },
 "nbformat": 4,
 "nbformat_minor": 5
}
