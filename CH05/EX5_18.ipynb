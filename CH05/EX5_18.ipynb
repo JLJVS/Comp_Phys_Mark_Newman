{
 "cells": [
  {
   "cell_type": "markdown",
   "id": "d23841dd",
   "metadata": {},
   "source": [
    "# Exercise 5.18\n",
    "\n",
    "Rearranging Eq. (5.19) into a slightly more conventional form, we have :\n",
    "\n",
    "$$ \\int^b_a f(x)dx = h\\bigg[\\frac{1}{2}f(a) + \\frac{1}{2}f(b) + \\sum^{N-1}_{k=1}f(a+kh)\\bigg] +\\frac{1}{12}h^2[f'(a)-f'(b)] + O(h^4).$$\n",
    "\n",
    "This result gives a value for the integral on the left which has an error of order $h^4$ -- a factor of $h^2$ better than the error on the trapezoidal rule and as good as Simpson's rule. We can use this formula as a new rule for evaluating integrals, distinct from any of the others we have seen in this chapter. We might call it the \"Euler-Maclaurin rule\"."
   ]
  },
  {
   "cell_type": "markdown",
   "id": "47d77472",
   "metadata": {},
   "source": [
    "a) Write a program to calculate the value of the integral $\\int^2_0(x^4-2x+1)\\text{d}x$ using this formula. (This is the same integral that we studied in Example 5.1, whose true value is 4.4.) The order-$h$ term in the formula is just the ordinary trapezoidal rule; the $h^2$ term involves the derivatives $f'(a)$ and $f'(b)$, which you should evaluate using central differences, centered on $a$ and $b$ respectively. Note that the size of the interval you use for calculating the central differences does not have to equal the value of $h$ used in the trapezoidal rule part of the calculation. An interval of about $10^{-5}$ gives good values for the central differences. \n",
    "\n",
    "Use your program to evaluate the integral with $N=10$ slices and compre the accuracy of the result with that obtained from the trapezoidal rule alone with the same number of slices."
   ]
  },
  {
   "cell_type": "code",
   "execution_count": 1,
   "id": "f4a8b9f0",
   "metadata": {},
   "outputs": [],
   "source": [
    "import numpy as np\n",
    "import matplotlib.pyplot as plt\n"
   ]
  },
  {
   "cell_type": "code",
   "execution_count": 2,
   "id": "77de35d7",
   "metadata": {},
   "outputs": [],
   "source": [
    "def f(x):\n",
    "    return x**4 - 2*x + 1"
   ]
  },
  {
   "cell_type": "code",
   "execution_count": 7,
   "id": "62e58633",
   "metadata": {},
   "outputs": [],
   "source": [
    "def trap(f, start, end, N):\n",
    "    \n",
    "    h = (end-start)/N\n",
    "    I = (f(start)+f(end))/2\n",
    "    for k in range(1,N):\n",
    "        I += f(start+k*h)\n",
    "    return I*h\n",
    "    "
   ]
  },
  {
   "cell_type": "code",
   "execution_count": 10,
   "id": "cead1b5e",
   "metadata": {},
   "outputs": [],
   "source": [
    "def derivative(f, x, h):\n",
    "    \n",
    "    return (f(x+h)-f(x-h))/(2*h)"
   ]
  },
  {
   "cell_type": "code",
   "execution_count": 15,
   "id": "e3cfebf5",
   "metadata": {},
   "outputs": [
    {
     "name": "stdout",
     "output_type": "stream",
     "text": [
      "The trapezoidal rule around gives : 4.50656\n",
      "The expanded rule yields: 4.39989\n"
     ]
    }
   ],
   "source": [
    "N = 10\n",
    "start = 0\n",
    "end = 2\n",
    "h = 1e-5\n",
    "\n",
    "I_1 = trap(f, start, end, N)\n",
    "I_2 = (1/12)*((end-start)/N)**2*(derivative(f, start, h) - derivative(f, end, h))\n",
    "\n",
    "print(f\"The trapezoidal rule around gives : {round(I_1, 5)}\")\n",
    "print(f\"The expanded rule yields: {round(I_1+I_2, 5)}\")"
   ]
  },
  {
   "cell_type": "markdown",
   "id": "e489d48e",
   "metadata": {},
   "source": [
    "b) Good though it is, this integation is not much used in practice. Suggest a reason why not."
   ]
  },
  {
   "cell_type": "markdown",
   "id": "73a66db4",
   "metadata": {},
   "source": [
    "For this integration method to work the function in question has to be differentiable, which is not always a given."
   ]
  },
  {
   "cell_type": "code",
   "execution_count": null,
   "id": "bba28f44",
   "metadata": {},
   "outputs": [],
   "source": []
  }
 ],
 "metadata": {
  "kernelspec": {
   "display_name": "Python 3 (ipykernel)",
   "language": "python",
   "name": "python3"
  },
  "language_info": {
   "codemirror_mode": {
    "name": "ipython",
    "version": 3
   },
   "file_extension": ".py",
   "mimetype": "text/x-python",
   "name": "python",
   "nbconvert_exporter": "python",
   "pygments_lexer": "ipython3",
   "version": "3.10.9"
  }
 },
 "nbformat": 4,
 "nbformat_minor": 5
}
