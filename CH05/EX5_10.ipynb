{
 "cells": [
  {
   "cell_type": "markdown",
   "id": "4087448a",
   "metadata": {},
   "source": [
    "# Exercise 5.10: Period of an anhormic oscillator\n",
    "\n",
    "The simple harmonic oscillator crops up in many places. Its behavior can be studied readily using analytic methods and it has the important property that its period of oscillation is a constant, independent of its amplitude, making it useful, for instance, for keeping time in watches and clocks. \n",
    "\n",
    "Frequently in physics, however, we also come across anharmonic oscillators, whose period varies with amplitude and whose behavior cannot usually be calculated analytically. A general classical oscillator can be thought of as a particle in a concave potential well. When distrurbed, the particle will rock back and forth in the well.\n",
    "\n",
    "The harmonic oscillator corresponds toa quadratic potential $V(x) \\propto x^2$. Any other from gives an anharmonic oscillator. (Thus there are many different kinds of anharmonic oscillator, depending on the exact form of the potential.)\n",
    "\n",
    "One way to calculate the motion of an oscillator is to write down the equation for the conservation of energy in the system. If the particla has mass $m$ and position $x$, then the total energy is equal to the sum of the kinetic and potential energies thus:\n",
    "\n",
    "$$ E = \\frac{1}{2}m\\bigg(\\frac{\\text{d}x}{\\text{d}t}\\bigg)^2 + V(x).$$\n",
    "\n",
    "Since the energy must be constant over time, this equation is effectively a (nonlinear) differential equation linking $x$ and $t$. \n",
    "\n",
    "Let us assum that the potential $V(x)$ is symmetric about $x=0$ and let us our anharmonic oscillator going with amplitude $a$. That is, at $t=0$ we release it from rest at position $x=a$ and it swings back towards the origin. Then at $t=0$ we have $\\text{d}x/\\text{d}t=0$ and the equation above reads $E=V(a)$, which givese us the total energy of the particle in terms of the amplitude"
   ]
  },
  {
   "cell_type": "markdown",
   "id": "c0883535",
   "metadata": {},
   "source": [
    "a) When the particle reaches the origing fro the first time, it has gone through one quarter of a period of the oscillator. By rearranging the equation above for $\\text{d}x/\\text{d}t$ and then integrating with respect to $t$ from 0 to $\\frac{1}{4}T$, show that the period $T$ is given by \n",
    "\n",
    "$$ T = \\sqrt{8m}\\int^a_0 \\frac{\\text{d}x}{\\sqrt{V(a)-V(x)}}$$"
   ]
  },
  {
   "cell_type": "markdown",
   "id": "028586cc",
   "metadata": {},
   "source": [
    "Start with \n",
    "\n",
    "$ E = \\frac{1}{2}m\\frac{dx}{dt}^2 + V(x)$ \n",
    "\n",
    "we want a derivation of T so rewrite as:\n",
    "\n",
    "$\\frac{dx}{dt}^2 = \\frac{2(E-V(x))}{m}$\n",
    "\n",
    "$\\frac{dx}{dt} = \\sqrt{\\frac{2}{m}}\\sqrt{E-V(x)}$\n",
    "\n",
    "$\\frac{dt}{dx} = \\sqrt{\\frac{m}{2}}\\frac{1}{\\sqrt{E-V(x)}}$\n",
    "\n",
    "Given that the energy is completely in potential energy at $t=0$ and $x=a$ we can set $E=V(a)$\n",
    "\n",
    "$\\frac{dt}{dx} = \\sqrt{\\frac{m}{2}}\\frac{1}{\\sqrt{V(a)-V(x)}}$\n",
    "\n",
    "we find that $T/4$ should be:\n",
    "$\\frac{T}{4} = \\sqrt{\\frac{m}{2}}\\int^a_0\\frac{1}{\\sqrt{V(a)-V(x)}}$\n",
    "\n",
    "multiplying both sides by 4 we get:\n",
    "$T = \\sqrt{8m}\\int^a_0\\frac{1}{\\sqrt{V(a)-V(x)}}$\n",
    "\n",
    "which is what we wanted."
   ]
  },
  {
   "cell_type": "markdown",
   "id": "54556a8b",
   "metadata": {},
   "source": [
    "b) Suppose the potential is $V(x)=x^4$ and the mass of hte particle is $m=1$. Write a Python function that calculates the period of the oscillator for given amplitude $a$ using Gaussian quadrature with $N=20$ points, then use your function to make a graph of the period for amplitudes ranging from $a=0$ to $a=2$."
   ]
  },
  {
   "cell_type": "code",
   "execution_count": 1,
   "id": "aba98d5f",
   "metadata": {},
   "outputs": [],
   "source": [
    "import numpy as np\n",
    "import matplotlib.pyplot as plt\n",
    "from gaussxw import gaussxwab"
   ]
  },
  {
   "cell_type": "code",
   "execution_count": 24,
   "id": "5caee95a",
   "metadata": {},
   "outputs": [],
   "source": [
    "m = 1\n",
    "N = 20\n",
    "start = 0\n",
    "amplitudes = np.linspace(0.2, 2, N)"
   ]
  },
  {
   "cell_type": "code",
   "execution_count": 25,
   "id": "3910a93a",
   "metadata": {},
   "outputs": [],
   "source": [
    "def f(x, amplitude):\n",
    "    return np.sqrt(8*m)*(1/(amplitude**4-x**4))"
   ]
  },
  {
   "cell_type": "code",
   "execution_count": 26,
   "id": "6d277b62",
   "metadata": {},
   "outputs": [],
   "source": [
    "def gauss_quad(f, a, b, N):\n",
    "    \n",
    "    x, w = gaussxwab(N, a, b)\n",
    "    I = 0\n",
    "    for k in range(N):\n",
    "        I += w[k]*f(x[k], b)\n",
    "    return I"
   ]
  },
  {
   "cell_type": "code",
   "execution_count": 27,
   "id": "583f9157",
   "metadata": {},
   "outputs": [
    {
     "data": {
      "image/png": "[encoded data removed]",
      "text/plain": [
       "<Figure size 1000x600 with 1 Axes>"
      ]
     },
     "metadata": {},
     "output_type": "display_data"
    }
   ],
   "source": [
    "T = []\n",
    "\n",
    "for amplitude in amplitudes:\n",
    "    T.append(gauss_quad(f, start, amplitude, N))\n",
    "\n",
    "plt.figure(figsize=(10,6))\n",
    "plt.title(\"Period of an anharmonic oscillator\")\n",
    "plt.xlabel(\"Amplitude (m)\")\n",
    "plt.ylabel(\"Period $T$ (s)\")\n",
    "plt.plot(amplitudes, T,'k.')\n",
    "plt.show()"
   ]
  },
  {
   "cell_type": "markdown",
   "id": "e3ed7b5b",
   "metadata": {},
   "source": [
    "c) You should find that the oscillator gets faster as the amplitude increases, even though the patricle has further to travel for larger amplitude. And you should find that the period diverges as the amplitude goes to zero. How do you explain these results?"
   ]
  },
  {
   "cell_type": "markdown",
   "id": "26d4a174",
   "metadata": {},
   "source": [
    "If we decrease the amplitude the total amount of energy $E$ in the system decreases. So with less total energy the maximum speed achievable also decreases as the energy is converted from potential energy $V$ to kinetic energy $\\frac{1}{2}mv^2$. So as $a \\rightarrow 0$, $v \\rightarrow 0$ so the period $T$ will behave as $T \\rightarrow \\infty$."
   ]
  },
  {
   "cell_type": "code",
   "execution_count": null,
   "id": "4d6f02f5",
   "metadata": {},
   "outputs": [],
   "source": []
  }
 ],
 "metadata": {
  "kernelspec": {
   "display_name": "Python 3 (ipykernel)",
   "language": "python",
   "name": "python3"
  },
  "language_info": {
   "codemirror_mode": {
    "name": "ipython",
    "version": 3
   },
   "file_extension": ".py",
   "mimetype": "text/x-python",
   "name": "python",
   "nbconvert_exporter": "python",
   "pygments_lexer": "ipython3",
   "version": "3.10.9"
  }
 },
 "nbformat": 4,
 "nbformat_minor": 5
}
