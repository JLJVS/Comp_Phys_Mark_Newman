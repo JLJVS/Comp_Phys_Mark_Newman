{
 "cells": [
  {
   "cell_type": "markdown",
   "id": "fdcf165c",
   "metadata": {},
   "source": [
    "# Exercise 3.8: Least-squares fiting and the photoelectric effect\n",
    "\n",
    "It's a common situation in physics that an experiment produces data that lies roughly on a straight line. The straight line can be represented in the familiar form $y=mx+c$ and a frequent question is what the appropriate values of the slope $m$ and intercept $c$ are that correspond to the measured data. Since the data don't fall perfectly on a straight line, there is no perfect answer to such a question, but we can find the straight line that gives the best compromise fit to the data. The standard technique for doing this is the _method of least squares_.\n",
    "\n",
    "Suppose we make some guess about the parameters $m$ and $c$ for the straight line. We then calculate the vertical distances between the data points and the straight line. We then calculate the sum of the squares of those distances, which we denote by $\\chi^2$. If we have $N$ data points with coordinates $(x_i,y_i)$ then $\\chi^2$ is given by\n",
    "\n",
    "$$ \\chi^2 = \\sum^N_{i=1}(mx_i+c-y_i^2)$$\n",
    "\n",
    "The least-squares fit of the straight line to the data is the straight line that minimizes this total squared distance from data to line. We find the minimum by differentiating with respect to both $m$ and $c$ and setting the derivatives to zero, which gives\n",
    "\n",
    "$$m\\sum^N_{i=1}x_i^2 + c\\sum^N_{i=1}x_i - \\sum^N_{i=1}x_iy_i = 0,$$\n",
    "\n",
    "$$ m\\sum^N_{i=1}x_i + cN - \\sum^{N}_{i=1}y_i = 0.$$\n",
    "\n",
    "For convenience, let us define the following quantities:\n",
    "\n",
    "$$E_x = \\frac{1}{N}\\sum^N_{i=1}x_i,  E_y = \\frac{1}{N}\\sum^N_{i=1}y_i, E_{xx} = \\frac{1}{N}\\sum^N_{i=1}x_i^2, E_{xy}=\\frac{1}{N}\\sum^N_{i=1}x_iy_i$$\n",
    "\n",
    "in terms of which our equations can be written as\n",
    "\n",
    "$$mE_{xx} + cE_x = E_{xy},$$\n",
    "$$mE_x + c = E_y.$$\n",
    "\n",
    "Solving these equations simultaneously for $m$ and $c$ now gives \n",
    "\n",
    "$$ m = \\frac{E_{xy}-E_xE_y}{E_{xx}-E_x^2}, c = \\frac{E_{xx}E_y - E_xE_{xy}}{E_{xx}-E_x^2}.$$\n",
    "\n",
    "These are the eqeuations for the least-squares fit of a straight line to $N$ data points. They tell you the values of $m$ and $c$ for the line that best fits the given data."
   ]
  },
  {
   "cell_type": "markdown",
   "id": "9b77b6b6",
   "metadata": {},
   "source": [
    "a) \n",
    "Read the data in the file [milikan.txt](http://www-personal.umich.edu/~mejn/cp/programs.html) and graph it."
   ]
  },
  {
   "cell_type": "code",
   "execution_count": 1,
   "id": "8ecc9594",
   "metadata": {},
   "outputs": [],
   "source": [
    "import numpy as np\n",
    "import matplotlib.pyplot as plt"
   ]
  },
  {
   "cell_type": "code",
   "execution_count": 19,
   "id": "cf4ee5d1",
   "metadata": {},
   "outputs": [
    {
     "name": "stdout",
     "output_type": "stream",
     "text": [
      "[[5.48740e+14 5.30900e-01]\n",
      " [6.93100e+14 1.08420e+00]\n",
      " [7.43070e+14 1.27340e+00]\n",
      " [8.21930e+14 1.65980e+00]\n",
      " [9.60740e+14 2.19856e+00]]\n",
      "<class 'numpy.ndarray'>\n"
     ]
    }
   ],
   "source": [
    "data = np.loadtxt(\"millikan.txt\", float)\n",
    "print(data[:5])\n",
    "print(type(data))"
   ]
  },
  {
   "cell_type": "code",
   "execution_count": 20,
   "id": "3b573a6e",
   "metadata": {},
   "outputs": [],
   "source": [
    "x = data[:,0] # keep it an numpy array\n",
    "y = data[:,1]\n",
    "\n",
    "#plt.figure(figsize=(10,6))\n",
    "#plt.plot(x,y,'.')\n",
    "#plt.show()"
   ]
  },
  {
   "cell_type": "code",
   "execution_count": 12,
   "id": "fb9c3c10",
   "metadata": {},
   "outputs": [],
   "source": [
    "N = len(x)\n",
    "Ex = sum(x)/N\n",
    "Ey = sum(y)/N\n",
    "Exx = sum(x**2)/N\n",
    "Exy = sum(x*y)/N\n",
    "\n",
    "m = (Exy-Ex*Ey)/(Exx-Ex**2)\n",
    "c = (Exx*Ey-Ex*Exy)/(Exx-Ex**2)"
   ]
  },
  {
   "cell_type": "code",
   "execution_count": 13,
   "id": "79fe33a1",
   "metadata": {},
   "outputs": [
    {
     "data": {
      "image/png": "[encoded data removed]",
      "text/plain": [
       "<Figure size 1000x600 with 1 Axes>"
      ]
     },
     "metadata": {},
     "output_type": "display_data"
    }
   ],
   "source": [
    "x_to_fit = np.linspace(x[0], x[-1], N)\n",
    "y_to_fit = m*x_to_fit+c\n",
    "\n",
    "plt.figure(figsize=(10,6))\n",
    "plt.plot(x,y,'.')\n",
    "plt.plot(x_to_fit, y_to_fit)\n",
    "plt.show()"
   ]
  },
  {
   "cell_type": "markdown",
   "id": "8e9b6d49",
   "metadata": {},
   "source": [
    "d)\n",
    "The dat ain the file millikan.txt are take nfrom a histroic experiment by Robert Millikan that measured the _photoelectric effct_. When light of an appropriate wavelength is shone on the surface of a metal, the photons in the light can strik conduction electrons in the meatl and, sometimes, eject them from the surface into the free space above. The energy of an ejected electron is equal to the energy of the photon that struck it minus a small amount $\\phi$ called the _work function_ of the surface, which represents the energy needed to remove an electron from the sruface. The energy of a photon is $hv$, where $h$ i Planck's constant and $v$ is the frequency of the light, and we can measure the energy of an ejected electron by measuring the voltage $V$ that is just sufficient to stop the electron moving. Then the voltage, frequency, and work function are related by the equation\n",
    "\n",
    "$$ V = \\frac{h}{e}v-\\phi $$\n",
    "\n",
    "where $e$ is the charge on the electron. This equation was first given by Albert Einstein in 1905. \n",
    "\n",
    "The data in the file millikan.txt represent frequencies $v$ in hertz (first column) and voltages $V$ in volts (second column) from photoelectric measurements of this kind. Using theequation above and the program you wrote and given that the charge on the electron is $1.602 \\times 10^{-19}$C, calculate from Millikan's experimental data a value for Placnk's constant. Compare your value with accepted value of the constant, which you can find in books or on-line. You should get aresult within a couple of percent of the accepted value. "
   ]
  },
  {
   "cell_type": "code",
   "execution_count": 18,
   "id": "e0c74731",
   "metadata": {},
   "outputs": [
    {
     "name": "stdout",
     "output_type": "stream",
     "text": [
      "From literature we know that Planck's constant is h=6.626e-34 J*s\n",
      "By using the least-squares method we got a result for h with an error of 1.16%\n"
     ]
    }
   ],
   "source": [
    "e = 1.602e-19 #C\n",
    "h = m*e\n",
    "h_lit = 6.626e-34\n",
    "\n",
    "error = abs(h_lit-h)/(h_lit)\n",
    "\n",
    "print(f\"From literature we know that Planck's constant is h={h_lit} J*s\")\n",
    "print(f\"By using the least-squares method we got a result for h with an error of {round(error*100,2)}%\")"
   ]
  },
  {
   "cell_type": "code",
   "execution_count": null,
   "id": "408fa65b",
   "metadata": {},
   "outputs": [],
   "source": []
  }
 ],
 "metadata": {
  "kernelspec": {
   "display_name": "Python 3 (ipykernel)",
   "language": "python",
   "name": "python3"
  },
  "language_info": {
   "codemirror_mode": {
    "name": "ipython",
    "version": 3
   },
   "file_extension": ".py",
   "mimetype": "text/x-python",
   "name": "python",
   "nbconvert_exporter": "python",
   "pygments_lexer": "ipython3",
   "version": "3.10.9"
  }
 },
 "nbformat": 4,
 "nbformat_minor": 5
}
