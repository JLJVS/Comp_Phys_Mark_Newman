{
 "cells": [
  {
   "cell_type": "markdown",
   "id": "5106b1db",
   "metadata": {},
   "source": [
    "# Exercise 6.5:\n",
    "\n",
    "The voltage $V_+$ is time-varying and sinusoidal of the form $V_+ = x_+e^{i\\omega t}$ with $x_+$ a constant. The resistors in the circuit can be treated using Ohm's law as usual. For the capacitors the charge $Q$ and voltage $V$ across them are related by the capcitor law $Q=CV$, where $C$ is the capacitance. Differentiating both sides of this expression gives the current $I$ flowing in on one side of the capacitor and out on the other: \n",
    "\n",
    "$$ I = \\frac{\\text{d}Q}{\\text{d}t} = C \\frac{\\text{d}V}{\\text{d}t}.$$"
   ]
  },
  {
   "cell_type": "markdown",
   "id": "8ea61122",
   "metadata": {},
   "source": [
    "a) Assuming the voltages at the points labeled 1,2, and 3 are of the form $V_1 = x_1e^{i\\omega t}$, $V_2 = x_2e^{i\\omega t}$, $V_3=x_3e^{i\\omega t}$, apply Kirchhoff's law at each of the three points, along with Ohm's law and capacitor law, to show that the constants $x_1$, $x_2$ and $x_3$ satisfy the equations:\n",
    "\n"
   ]
  },
  {
   "cell_type": "markdown",
   "id": "b486db5c",
   "metadata": {},
   "source": [
    "From Kirchhoff's Law we know that all the currents going in and out of a \"node\" sum to zero.\n",
    "\n",
    "So let's start with the voltage at node 1:\n",
    "\n",
    "$$ \\frac{V_1 -V_+}{R_1} + C_1\\frac{\\text{d}}{\\text{d}t}(V_1-V_2) + \\frac{V_1}{R_4} = 0 $$\n",
    "\n",
    "$$ V_1(\\frac{1}{R_1} + \\frac{V_1}{R_4}) + C_1\\frac{\\text{d}}{\\text{d}t}(V_1-V_2) = \\frac{V_+}{R_1} $$\n",
    "\n",
    "now substitute our time base voltage expressions:\n",
    "\n",
    "$$ x_1e^{i\\omega t}(\\frac{1}{R_1} + \\frac{1}{R_4}) + i\\omega C_1(x_1-x_2)e^{i\\omega t} = \\frac{x_+}{R_1}e^{i\\omega t}$$\n",
    "\n",
    "$$ (\\frac{1}{R_1} + \\frac{1}{R_4}+ i\\omega C_1)x_1 - i\\omega C_1x_2 = \\frac{x_+}{R_1} $$\n",
    "\n",
    "which is our desired result. By repeating the proces for nodes 2 and 3 we get:\n",
    "\n",
    "Node 1:\n",
    "\n",
    "$$ (\\frac{1}{R_1} + \\frac{1}{R_4}+ i\\omega C_1)x_1 - i\\omega C_1x_2 = \\frac{x_+}{R_1} $$\n",
    "\n",
    "\n",
    "Node 2: \n",
    "\n",
    "$$ -i\\omega C_1)x_1 (\\frac{1}{R_2} + \\frac{1}{R_5}+ i\\omega C_2)x_2 - i\\omega C_2x_3 = \\frac{x_+}{R_2} $$\n",
    "\n",
    "Node 3:\n",
    "\n",
    "$$ - i\\omega C_2x_3(\\frac{1}{R_3} + \\frac{1}{R_6}+ i\\omega C_2)x_3  = \\frac{x_+}{R_3} $$"
   ]
  },
  {
   "cell_type": "markdown",
   "id": "f44235a2",
   "metadata": {},
   "source": [
    "b) Write a program to solve for $x_1,x_2$ and $x_3$ when\n",
    "\n",
    "$$ R_1 = R_3 = R_5 = 1 \\text{k}\\Omega,$$\n",
    "$$ R_2 = R_4 = R_6 = 2 \\text{k}\\Omega,$$\n",
    "$$ C1 = 1 \\mu F, \\; C_2 = 0.5\\mu F,$$\n",
    "$$ x_+ = 3 \\text{V}, \\omega = 1000 \\text{s}^{-1}$$"
   ]
  },
  {
   "cell_type": "code",
   "execution_count": 1,
   "id": "5c60799d",
   "metadata": {},
   "outputs": [],
   "source": [
    "import numpy as np"
   ]
  },
  {
   "cell_type": "code",
   "execution_count": 18,
   "id": "3d2178dc",
   "metadata": {},
   "outputs": [
    {
     "name": "stdout",
     "output_type": "stream",
     "text": [
      "V1=1.701, with phase $\\phi$=-5.47.\n",
      "V2=1.481, with phase $\\phi$=11.58.\n",
      "V3=1.861, with phase $\\phi$=-4.16.\n"
     ]
    }
   ],
   "source": [
    "R1 = R3 = R5 = 1e3\n",
    "R2 = R4 = R6 = 2e3\n",
    "C1 = 1e-6\n",
    "C2 = 0.5e-6\n",
    "x_plus = 3\n",
    "omega = 1000\n",
    "\n",
    "A = np.array([[(1/R1+1/R4+1j*omega*C1), -1j*omega*C1, 0],\n",
    "             [-1j*omega*C1, (1/R2+1/R5+1j*omega*C1+1j*omega*C2), -1j*omega*C2],\n",
    "             [0, -1j*omega*C2, (1/R3+1/R6+1j*omega*C2)]], complex)\n",
    "    \n",
    "v = [x_plus/R1, x_plus/R2, x_plus/R3]\n",
    "\n",
    "x = np.linalg.solve(A,v)\n",
    "\n",
    "for i, val in enumerate(x):\n",
    "    r, theta = polar(val)\n",
    "    print(f\"V{i+1}={round(r,3)}, with phase $\\phi$={round(theta*180/np.pi,2)}.\")"
   ]
  },
  {
   "cell_type": "code",
   "execution_count": null,
   "id": "7cd7c952",
   "metadata": {},
   "outputs": [],
   "source": []
  },
  {
   "cell_type": "code",
   "execution_count": null,
   "id": "5162c554",
   "metadata": {},
   "outputs": [],
   "source": []
  },
  {
   "cell_type": "code",
   "execution_count": null,
   "id": "68da0c9f",
   "metadata": {},
   "outputs": [],
   "source": []
  }
 ],
 "metadata": {
  "kernelspec": {
   "display_name": "Python 3 (ipykernel)",
   "language": "python",
   "name": "python3"
  },
  "language_info": {
   "codemirror_mode": {
    "name": "ipython",
    "version": 3
   },
   "file_extension": ".py",
   "mimetype": "text/x-python",
   "name": "python",
   "nbconvert_exporter": "python",
   "pygments_lexer": "ipython3",
   "version": "3.10.9"
  }
 },
 "nbformat": 4,
 "nbformat_minor": 5
}
