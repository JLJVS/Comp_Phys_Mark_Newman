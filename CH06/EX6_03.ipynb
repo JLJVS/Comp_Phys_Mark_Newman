{
 "cells": [
  {
   "cell_type": "markdown",
   "id": "79fa7b24",
   "metadata": {},
   "source": [
    "# Exercise 6.3: LU decomposition\n",
    "\n",
    "This exercise invites you to write your own program to solve simultaneous equations using the method of LU decomposition."
   ]
  },
  {
   "cell_type": "markdown",
   "id": "4824b038",
   "metadata": {},
   "source": [
    "a) Starting ,if you wish, with the program for Gaussian elimination in Example 6.1 on page 218, write a Python function that calculates the LU decomposition of a matrix. The calculation is same as that for Gaussian elimination, except that at each step of hte calculation you need to extract the approriate elements of the matrix and assemble them to form the lower diagonal matrix  **L** of Eq(6.32). Test your function by calculating the LU decomposition of the matrix from Eq. (6.2), then multiplying the **L** and **U** you get and verifying that you recover the original matrix once more."
   ]
  },
  {
   "cell_type": "markdown",
   "id": "643c1d86",
   "metadata": {},
   "source": [
    "Eq 6.32\n",
    "\n",
    "$$L = L_0^{-1}L_1^{-1}L_2^{-1}L_3^{-1} = \\begin{pmatrix} a_{00} & 0 & 0 & 0\\\\\n",
    "                                                         a_{10} & b_{11} & 0 & 0 \\\\\n",
    "                                                         a_{20} & b_{21} & c_{22} & 0 \\\\\n",
    "                                                         a_{30} & b_{31} & c_{32} & d_{33} \\end{pmatrix} $$"
   ]
  },
  {
   "cell_type": "code",
   "execution_count": 3,
   "id": "6a4839c0",
   "metadata": {},
   "outputs": [],
   "source": [
    "import numpy as np"
   ]
  },
  {
   "cell_type": "code",
   "execution_count": 27,
   "id": "ea41c801",
   "metadata": {},
   "outputs": [],
   "source": [
    "def LU(A_input, v_input):\n",
    "    \n",
    "    '''\n",
    "    Performs an LU decomposition for a given matrix A,\n",
    "    and returns the solution L, U of Ax = v using LU decomposition \n",
    "    '''\n",
    "    \n",
    "    A = A_input.copy()\n",
    "    v = v_input.copy()\n",
    "    N = len(A)\n",
    "    \n",
    "    #initialize L \n",
    "    L = np.zeros((N, N), float) \n",
    "    L[:, 0] = A[:,0] #column of a_m0's\n",
    "    \n",
    "    #Gaussian elimination \n",
    "    for m in range(N): \n",
    "        # Divide by the diagonal element \n",
    "        div = A[m, m]\n",
    "        A[m,:] /= div \n",
    "        v[m] /= div\n",
    "        \n",
    "        # Now subtract from the lower rows \n",
    "        for i in range(m+1, N):\n",
    "            mult = A[i,m]\n",
    "            A[i,:] -= mult*A[m,:]\n",
    "            v[i] -= mult*v[m]\n",
    "        \n",
    "        # Filling L \n",
    "        if m < N-1: \n",
    "            L[m+1:,m+1] = A[m+1:, m+1]\n",
    "            \n",
    "    #Upper triangular matrix, U\n",
    "    U = A\n",
    "    \n",
    "    # Double Backsubstitution \n",
    "    # Ly = v\n",
    "    y = np.empty(N, float)\n",
    "    for m in range(N-1, -1, -1): \n",
    "        y[m] = v[m]\n",
    "        for i in range(m+1, N):\n",
    "            y[m] -= L[m, i]*y[i]\n",
    "        \n",
    "    # Ux = y\n",
    "    x = np.empty(N, float)\n",
    "    for m in range(N-1, -1, -1): \n",
    "        x[m] = y[m]\n",
    "        for i in range(m+1, N):\n",
    "            x[m] -= U[m, i]*x[i]\n",
    "    \n",
    "    # Useful information \n",
    "        \n",
    "    return(L, U, L.dot(U), x)"
   ]
  },
  {
   "cell_type": "code",
   "execution_count": 28,
   "id": "acd6b6e7",
   "metadata": {},
   "outputs": [],
   "source": [
    "A = np.array( [[2, 1, 4, 1], \n",
    "            [3, 4, -1, -1], \n",
    "            [1, -4, 1, 5], \n",
    "            [2, -2, 1, 3]], float)\n",
    "v  = np.array([-4, 3, 9, 7], float)\n",
    "\n"
   ]
  },
  {
   "cell_type": "code",
   "execution_count": 29,
   "id": "9f4b20da",
   "metadata": {},
   "outputs": [
    {
     "name": "stdout",
     "output_type": "stream",
     "text": [
      "[[ 2.  1.  4.  1.]\n",
      " [ 3.  4. -1. -1.]\n",
      " [ 1. -4.  1.  5.]\n",
      " [ 2. -2.  1.  3.]]\n",
      "[-4.  3.  9.  7.]\n"
     ]
    },
    {
     "data": {
      "text/plain": [
       "(array([[  2. ,   0. ,   0. ,   0. ],\n",
       "        [  3. ,   2.5,   0. ,   0. ],\n",
       "        [  1. ,  -4.5, -13.6,   0. ],\n",
       "        [  2. ,  -3. , -11.4,  -1. ]]),\n",
       " array([[ 1. ,  0.5,  2. ,  0.5],\n",
       "        [ 0. ,  1. , -2.8, -1. ],\n",
       "        [-0. , -0. ,  1. , -0. ],\n",
       "        [-0. , -0. , -0. ,  1. ]]),\n",
       " array([[ 2.,  1.,  4.,  1.],\n",
       "        [ 3.,  4., -1., -1.],\n",
       "        [ 1., -4.,  1.,  5.],\n",
       "        [ 2., -2.,  1.,  3.]]),\n",
       " array([ 2., -1., -2.,  1.]))"
      ]
     },
     "execution_count": 29,
     "metadata": {},
     "output_type": "execute_result"
    }
   ],
   "source": [
    "print(A)\n",
    "print(v)\n",
    "LU(A,v)"
   ]
  },
  {
   "cell_type": "markdown",
   "id": "e6a453b8",
   "metadata": {},
   "source": [
    "Double check your result with numpy.linalg.solve()"
   ]
  },
  {
   "cell_type": "code",
   "execution_count": 25,
   "id": "74f2cbf0",
   "metadata": {},
   "outputs": [
    {
     "data": {
      "text/plain": [
       "array([ 2., -1., -2.,  1.])"
      ]
     },
     "execution_count": 25,
     "metadata": {},
     "output_type": "execute_result"
    }
   ],
   "source": [
    "x = np.linalg.solve(A,v)\n",
    "x"
   ]
  },
  {
   "cell_type": "code",
   "execution_count": null,
   "id": "b19da04d",
   "metadata": {},
   "outputs": [],
   "source": []
  }
 ],
 "metadata": {
  "kernelspec": {
   "display_name": "Python 3 (ipykernel)",
   "language": "python",
   "name": "python3"
  },
  "language_info": {
   "codemirror_mode": {
    "name": "ipython",
    "version": 3
   },
   "file_extension": ".py",
   "mimetype": "text/x-python",
   "name": "python",
   "nbconvert_exporter": "python",
   "pygments_lexer": "ipython3",
   "version": "3.10.9"
  }
 },
 "nbformat": 4,
 "nbformat_minor": 5
}
