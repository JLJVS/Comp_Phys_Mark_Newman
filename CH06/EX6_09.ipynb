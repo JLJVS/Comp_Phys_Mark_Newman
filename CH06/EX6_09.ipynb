{
 "cells": [
  {
   "cell_type": "markdown",
   "id": "42ef184d",
   "metadata": {},
   "source": [
    "# Exercise 6.9: Asymmetric quantum well\n",
    "\n",
    "Quantum mechanics can be formulated as a matrix problem and solved on a computer using linear algebra methods. Suppose, for example, we have a particle of mass $M$ in a one-dimensional quantum well of width $L$, but not a square well like the examples you've probably seen before. Suppose instead that the potential $V(x)$ varies somehow inside the well.\n",
    "\n",
    "We cannot solve such problems analytically in general, but we can solve them on the computer.\n",
    "\n",
    "In a pure state of energy $E$, the spatial part of the wavefunction obeys the time-independent Schrödinger equation $\\hat{H}\\psi(x)=E\\psi(x)$, where the Hamiltonian operator $\\hat{H}$ is given by \n",
    "\n",
    "$$ \\hat{H} = -\\frac{\\hbar^2}{2M}\\frac{\\text{d}^2}{\\text{d}x^2} + V(x) $$\n",
    "\n",
    "For simplicity, let's assume that the walls of the well are infinitely high, so that the wavefunction is zero outside the well, which menase it must got to zero at $x=0$ and $x=L$. In that case, the wavefunction can be expressed a Fourier sine series thus:\n",
    "\n",
    "$$\\psi(x) = \\sum^\\infty_{n=1}\\psi_nsin\\frac{\\pi n x}{L},$$\n",
    "\n",
    "where $\\psi_1, \\psi_2, \\ldots$ are the Fourier coeffecients."
   ]
  },
  {
   "cell_type": "markdown",
   "id": "be49e6ef",
   "metadata": {},
   "source": [
    "a) Noting that, for $m, n$ positive integers\n",
    "\n",
    "$$ \\int^L_0 sin\\frac{\\pi m x }{L} sin\\frac{\\pi n x }{L}\\text{d}x = \\left\\{ \\begin{array}{ll} L/2 & \\mbox if  m=n \\\\ 0 & \\mbox otherwise \\end{array}\\right.$$\n",
    "\n",
    "show that the Schrödinger equation $\\hat{H}\\psi = E\\psi$ implies that\n",
    "\n",
    "$$ \\sum ^\\infty_{n=1}\\psi_n\\int^:_0sin\\frac{\\pi m x}{L} \\hat{H} sin\\frac{\\pi n x}{L}\\text{d}x=\\frac{1}{2}LE\\psi_m.$$\n",
    "\n",
    "Hence, defining a matrix $H$ with elements\n",
    "\n",
    "$$ H_{mn} = \\frac{2}{L} \\int ^L_0 sin\\frac{\\pi m x}{L}\\hat{H}sin\\frac{\\pi n x}{L}\\text{d}x\\\\\n",
    "= \\frac{2}{L}\\int^L_0 sin \\frac{\\pi m x}{L}\\left[-\\frac{\\hbar^2}{2M}\\frac{\\text{d}^2}{\\text{d}x^2}+V(x)\\right]sin\\frac{\\pi n x}{L}\\text{d}x, $$\n",
    "\n",
    "show that Schrödinger's equation can be written in amtrix form as $H\\psi = E\\psi,$ where $\\psi$ is the vector $(\\psi_1, \\psi_2, \\ldots)$. Thus $\\psi$ is an eigenvector of the _Hamiltonian matrix_ H with the eigenvalue $E$. If we can calculate the eigenvalues of this matrix then we know the allowed energies of the particle in the well."
   ]
  },
  {
   "cell_type": "markdown",
   "id": "46d7d157",
   "metadata": {},
   "source": []
  },
  {
   "cell_type": "code",
   "execution_count": null,
   "id": "703ec4cc",
   "metadata": {},
   "outputs": [],
   "source": []
  },
  {
   "cell_type": "code",
   "execution_count": null,
   "id": "40c3dc35",
   "metadata": {},
   "outputs": [],
   "source": []
  },
  {
   "cell_type": "code",
   "execution_count": null,
   "id": "51d3ca0a",
   "metadata": {},
   "outputs": [],
   "source": []
  },
  {
   "cell_type": "code",
   "execution_count": null,
   "id": "7495b2dc",
   "metadata": {},
   "outputs": [],
   "source": []
  }
 ],
 "metadata": {
  "kernelspec": {
   "display_name": "Python 3 (ipykernel)",
   "language": "python",
   "name": "python3"
  },
  "language_info": {
   "codemirror_mode": {
    "name": "ipython",
    "version": 3
   },
   "file_extension": ".py",
   "mimetype": "text/x-python",
   "name": "python",
   "nbconvert_exporter": "python",
   "pygments_lexer": "ipython3",
   "version": "3.10.9"
  }
 },
 "nbformat": 4,
 "nbformat_minor": 5
}
