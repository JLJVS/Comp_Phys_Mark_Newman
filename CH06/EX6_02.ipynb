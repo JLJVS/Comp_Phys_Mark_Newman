{
 "cells": [
  {
   "cell_type": "markdown",
   "id": "4ac2179c",
   "metadata": {},
   "source": [
    "# Exercise 6.2:\n",
    "\n",
    "a) Modify the program gausselim.py in Example 6.1 to incorporate partial pivotting ( or you can write you own program from scratch if you prefer). Run your program and demonstrate that it gives the same answers as the original program when applied to Eq. (6.1)."
   ]
  },
  {
   "cell_type": "code",
   "execution_count": 1,
   "id": "fd15fd51",
   "metadata": {},
   "outputs": [],
   "source": [
    "import numpy as np"
   ]
  },
  {
   "cell_type": "code",
   "execution_count": 2,
   "id": "46d579f2",
   "metadata": {},
   "outputs": [],
   "source": [
    "def gaus_ellim(A, v):\n",
    "    \n",
    "    N = len(A)\n",
    "    print(A)\n",
    "\n",
    "\n",
    "    for m in range(N):\n",
    "    \n",
    "        # First we have to find the row with the largest pivot\n",
    "        pivot = m\n",
    "        largest = np.abs(A[m,m])\n",
    "    \n",
    "        for i in range(m+1, N):\n",
    "\n",
    "            if abs(A[i, m]) > largest:\n",
    "                largest = np.abs(A[i, m])\n",
    "                pivot = i\n",
    "    \n",
    "        # swap the rows\n",
    "        original_row = [i for i in A[m, :]]\n",
    "        pivot_row = [i for i in A[pivot,:]]\n",
    "        A[m, :], A[pivot, :] = pivot_row, original_row\n",
    "        v[m], v[pivot] = v[pivot], v[m]\n",
    "\n",
    "        # gaussian elimination\n",
    "        # divide by the diagonal element we can't use largest because of abs()\n",
    "        div = A[m, m]\n",
    "        A[m, :] /= div\n",
    "        v[m] /= div\n",
    "\n",
    "        # subtract from lower rows\n",
    "        for i in range(m+1, N):\n",
    "\n",
    "            mult = A[i, m]\n",
    "            A[i, :] -= mult*A[m, :]\n",
    "            v[i] -= mult*v[m]\n",
    "    \n",
    "    \n",
    "    # back substitution\n",
    "    x = np.empty(N, float)\n",
    "    for m in range(N-1, -1, -1):\n",
    "        x[m] = v[m]\n",
    "\n",
    "        for i in range(m+1, N):\n",
    "            x[m] -= A[m, i]*x[i]\n",
    "\n",
    "    print(x)"
   ]
  },
  {
   "cell_type": "code",
   "execution_count": 3,
   "id": "db8d9923",
   "metadata": {},
   "outputs": [
    {
     "name": "stdout",
     "output_type": "stream",
     "text": [
      "[[ 2.  1.  4.  1.]\n",
      " [ 3.  4. -1. -1.]\n",
      " [ 1. -4.  1.  5.]\n",
      " [ 2. -2.  1.  3.]]\n",
      "[ 2. -1. -2.  1.]\n"
     ]
    }
   ],
   "source": [
    "A = np.array([[2, 1, 4, 1],\n",
    "           [3, 4, -1, -1],\n",
    "           [1, -4, 1, 5],\n",
    "           [2, -2, 1, 3]], float)\n",
    "\n",
    "v = np.array([-4, 3, 9, 7], float)\n",
    "\n",
    "gaus_ellim(A, v)"
   ]
  },
  {
   "cell_type": "code",
   "execution_count": null,
   "id": "e69aeffb",
   "metadata": {},
   "outputs": [],
   "source": []
  },
  {
   "cell_type": "code",
   "execution_count": null,
   "id": "7ea5fee1",
   "metadata": {},
   "outputs": [],
   "source": []
  },
  {
   "cell_type": "code",
   "execution_count": null,
   "id": "64174f89",
   "metadata": {},
   "outputs": [],
   "source": []
  },
  {
   "cell_type": "code",
   "execution_count": null,
   "id": "91705cf7",
   "metadata": {},
   "outputs": [],
   "source": []
  },
  {
   "cell_type": "code",
   "execution_count": null,
   "id": "18eff6b0",
   "metadata": {},
   "outputs": [],
   "source": []
  },
  {
   "cell_type": "code",
   "execution_count": null,
   "id": "d3350173",
   "metadata": {},
   "outputs": [],
   "source": []
  }
 ],
 "metadata": {
  "kernelspec": {
   "display_name": "Python 3 (ipykernel)",
   "language": "python",
   "name": "python3"
  },
  "language_info": {
   "codemirror_mode": {
    "name": "ipython",
    "version": 3
   },
   "file_extension": ".py",
   "mimetype": "text/x-python",
   "name": "python",
   "nbconvert_exporter": "python",
   "pygments_lexer": "ipython3",
   "version": "3.10.9"
  }
 },
 "nbformat": 4,
 "nbformat_minor": 5
}
