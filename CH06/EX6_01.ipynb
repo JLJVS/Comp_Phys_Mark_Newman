{
 "cells": [
  {
   "cell_type": "markdown",
   "id": "38667187",
   "metadata": {},
   "source": [
    "# Exercise 6.1: A circuit of resistors\n",
    "\n",
    "Consider the following circuit of resistors:\n",
    "\n",
    "All the resistors have the same resistance $R$. The power rail at the top is at voltage $V_+ = 5$ V. What are the other four voltages, $V_1$ to $V_4$?\n",
    "\n",
    "To answer this question we use Ohm's law and the kirchhoff current law, which says that the total net current flow out of (or into) any junction in a circuit must be zero.\n",
    "Thus for the junction at voltage $V_1$, for instance, we have \n",
    "\n",
    "$$\\frac{V_1-V_2}{R} + \\frac{V_1-V_3}{R} + \\frac{V_1-V_4}{R} + \\frac{V_1-V_+}{R} = 0, $$\n",
    "\n",
    "or equivalently\n",
    "\n",
    "$$ 4V_1 - V_2 -V_3 - V_4 = V_+ $$"
   ]
  },
  {
   "cell_type": "markdown",
   "id": "7d7e8574",
   "metadata": {},
   "source": [
    "a) Write similar equations for the other three junctions with unknown voltages."
   ]
  },
  {
   "cell_type": "markdown",
   "id": "7da33a1a",
   "metadata": {},
   "source": [
    "Node $V_2$:\n",
    "\n",
    "$$ \\frac{V_2-V_1}{R}+\\frac{V_2-V_4}{R}+\\frac{V_2-0}{R} = 0$$\n",
    "\n",
    "$$ -V_1 + 3V_2 - 0V_3- V_4 = 0 $$\n",
    "\n",
    "Node $V_3$:\n",
    "\n",
    "$$ \\frac{V_3-V_+}{R}+\\frac{V_3-V_1}{R}+\\frac{V_3-V_4}{R} = 0$$\n",
    "\n",
    "$$ -V_1 + 0V_2 + 3V_3- V_4 = V_+$$\n",
    "\n",
    "\n",
    "Node $V_4$:\n",
    "\n",
    "$$ \\frac{V_4-V_3}{R}+\\frac{V_4-V_1}{R}+\\frac{V_4-V_2}{R}+\\frac{V_4-0}{R} = 0$$\n",
    "\n",
    "$$ 0V_1 - V_2 - V_3 + 4V_4 = 0$$\n"
   ]
  },
  {
   "cell_type": "markdown",
   "id": "7d5ded48",
   "metadata": {},
   "source": [
    "b) Write a program to solve the four resulting equations using Gaussian elimination and hence find the four voltages (or you an modify a program you already have, such as the program gausselim.py in Example 6.1)"
   ]
  },
  {
   "cell_type": "code",
   "execution_count": 8,
   "id": "300d2be0",
   "metadata": {},
   "outputs": [],
   "source": [
    "import numpy as np\n",
    "import matplotlib.pyplot as plt"
   ]
  },
  {
   "cell_type": "code",
   "execution_count": 24,
   "id": "35153202",
   "metadata": {},
   "outputs": [],
   "source": [
    "def gauss_elim(A, v):\n",
    "    N = len(A)\n",
    "    \n",
    "    for i in range(N):\n",
    "        div = A[i,i]\n",
    "        A[i, :] /= div\n",
    "        v[i] /= div\n",
    "        \n",
    "        for j in range(i+1, N):\n",
    "            mult = A[j, i]\n",
    "            A[j, :] -= mult*A[i,:]\n",
    "            v[j] -= mult*v[i]\n",
    "    \n",
    "    x = np.empty(N, float)\n",
    "    for m in range(N-1, -1, -1):\n",
    "        x[m] = v[m]\n",
    "        for i in range(m+1, N):\n",
    "            x[m] -= A[m,i]*x[i]\n",
    "    \n",
    "    return A, x,v"
   ]
  },
  {
   "cell_type": "code",
   "execution_count": 25,
   "id": "131fc1ad",
   "metadata": {},
   "outputs": [],
   "source": [
    "A = np.array([[4,-1, -1, -1],\n",
    "    [-1, 3, 0, -1],\n",
    "    [-1, 0, 3, -1],\n",
    "    [0, -1, -1, 4]], float)\n",
    "\n",
    "v = np.array([5, 0, 5, 0])"
   ]
  },
  {
   "cell_type": "code",
   "execution_count": 26,
   "id": "e196fbd6",
   "metadata": {},
   "outputs": [
    {
     "data": {
      "text/plain": [
       "(array([[ 1.        , -0.25      , -0.25      , -0.25      ],\n",
       "        [ 0.        ,  1.        , -0.09090909, -0.45454545],\n",
       "        [ 0.        ,  0.        ,  1.        , -0.5       ],\n",
       "        [ 0.        ,  0.        ,  0.        ,  1.        ]]),\n",
       " array([1.54545455, 0.18181818, 2.        , 0.        ]),\n",
       " array([1, 0, 2, 0]))"
      ]
     },
     "execution_count": 26,
     "metadata": {},
     "output_type": "execute_result"
    }
   ],
   "source": [
    "gauss_elim(A,v)"
   ]
  },
  {
   "cell_type": "code",
   "execution_count": null,
   "id": "14d0762e",
   "metadata": {},
   "outputs": [],
   "source": []
  }
 ],
 "metadata": {
  "kernelspec": {
   "display_name": "Python 3 (ipykernel)",
   "language": "python",
   "name": "python3"
  },
  "language_info": {
   "codemirror_mode": {
    "name": "ipython",
    "version": 3
   },
   "file_extension": ".py",
   "mimetype": "text/x-python",
   "name": "python",
   "nbconvert_exporter": "python",
   "pygments_lexer": "ipython3",
   "version": "3.10.9"
  }
 },
 "nbformat": 4,
 "nbformat_minor": 5
}
