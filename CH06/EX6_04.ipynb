{
 "cells": [
  {
   "cell_type": "markdown",
   "id": "88b2f4bd",
   "metadata": {},
   "source": [
    "# Exercise 6.4:\n",
    "Write a program to solve the resistor network problem of Exercise 6.1 on page 220 using the function solve from numpy.linalg. If you also did Exercise 6.1, you should check that you get the same answer both times."
   ]
  },
  {
   "cell_type": "code",
   "execution_count": 1,
   "id": "c7508e2a",
   "metadata": {},
   "outputs": [],
   "source": [
    "import numpy as np"
   ]
  },
  {
   "cell_type": "code",
   "execution_count": 2,
   "id": "a3f55f2b",
   "metadata": {},
   "outputs": [],
   "source": [
    "A = np.array([[4,-1, -1, -1],\n",
    "              [-1, 3, 0, -1],\n",
    "              [-1, 0, 3, -1],\n",
    "              [0, -1, -1, 4]], float)\n",
    "\n",
    "v = np.array([5, 0, 5, 0], float)"
   ]
  },
  {
   "cell_type": "code",
   "execution_count": 5,
   "id": "0205e1f2",
   "metadata": {},
   "outputs": [
    {
     "data": {
      "text/plain": [
       "(array([[ 1.        , -0.25      , -0.25      , -0.25      ],\n",
       "        [ 0.        ,  1.        , -0.09090909, -0.45454545],\n",
       "        [ 0.        ,  0.        ,  1.        , -0.5       ],\n",
       "        [ 0.        ,  0.        ,  0.        ,  1.        ]]),\n",
       " array([2.5       , 1.16666667, 2.83333333, 1.        ]))"
      ]
     },
     "execution_count": 5,
     "metadata": {},
     "output_type": "execute_result"
    }
   ],
   "source": [
    "# solution from 6.1\n",
    "\n",
    "def gauss_elim(A, v):\n",
    "    N = len(A)\n",
    "    \n",
    "    for i in range(N):\n",
    "        div = A[i,i]\n",
    "        A[i, :] /= div\n",
    "        v[i] /= div\n",
    "        \n",
    "        for j in range(i+1, N):\n",
    "            mult = A[j, i]\n",
    "            A[j, :] -= mult*A[i,:]\n",
    "            v[j] -= mult*v[i]\n",
    "    \n",
    "    x = np.empty(N, float)\n",
    "    for m in range(N-1, -1, -1):\n",
    "        x[m] = v[m]\n",
    "        for i in range(m+1, N):\n",
    "            x[m] -= A[m,i]*x[i]\n",
    "    \n",
    "    return A, x\n",
    "\n",
    "gauss_elim(A,v)"
   ]
  },
  {
   "cell_type": "code",
   "execution_count": 6,
   "id": "e345bfea",
   "metadata": {},
   "outputs": [
    {
     "data": {
      "text/plain": [
       "array([2.5       , 1.16666667, 2.83333333, 1.        ])"
      ]
     },
     "execution_count": 6,
     "metadata": {},
     "output_type": "execute_result"
    }
   ],
   "source": [
    "np.linalg.solve(A,v)"
   ]
  },
  {
   "cell_type": "code",
   "execution_count": null,
   "id": "8dac372f",
   "metadata": {},
   "outputs": [],
   "source": []
  }
 ],
 "metadata": {
  "kernelspec": {
   "display_name": "Python 3 (ipykernel)",
   "language": "python",
   "name": "python3"
  },
  "language_info": {
   "codemirror_mode": {
    "name": "ipython",
    "version": 3
   },
   "file_extension": ".py",
   "mimetype": "text/x-python",
   "name": "python",
   "nbconvert_exporter": "python",
   "pygments_lexer": "ipython3",
   "version": "3.10.9"
  }
 },
 "nbformat": 4,
 "nbformat_minor": 5
}
